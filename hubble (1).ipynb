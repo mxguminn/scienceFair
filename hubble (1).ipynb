{
 "cells": [
  {
   "cell_type": "code",
   "execution_count": 2,
   "metadata": {},
   "outputs": [],
   "source": [
    "#installs 1/2\n",
    "import os\n",
    "import numpy as np"
   ]
  },
  {
   "cell_type": "code",
   "execution_count": 3,
   "metadata": {},
   "outputs": [
    {
     "name": "stderr",
     "output_type": "stream",
     "text": [
      "2024-03-22 21:39:18.387677: I external/local_tsl/tsl/cuda/cudart_stub.cc:32] Could not find cuda drivers on your machine, GPU will not be used.\n",
      "2024-03-22 21:39:20.245182: I external/local_tsl/tsl/cuda/cudart_stub.cc:32] Could not find cuda drivers on your machine, GPU will not be used.\n",
      "2024-03-22 21:39:23.948923: I tensorflow/core/platform/cpu_feature_guard.cc:210] This TensorFlow binary is optimized to use available CPU instructions in performance-critical operations.\n",
      "To enable the following instructions: AVX2 FMA, in other operations, rebuild TensorFlow with the appropriate compiler flags.\n",
      "2024-03-22 21:39:28.473104: W tensorflow/compiler/tf2tensorrt/utils/py_utils.cc:38] TF-TRT Warning: Could not find TensorRT\n"
     ]
    }
   ],
   "source": [
    "#installs 2/2\n",
    "from keras import regularizers\n",
    "from keras.models import Sequential\n",
    "from keras.layers import Flatten, Dense, Rescaling, Dropout, Conv2D, MaxPooling2D\n",
    "from sklearn.model_selection import train_test_split\n",
    "from sklearn.preprocessing import LabelEncoder\n",
    "from keras.utils import to_categorical\n",
    "from pandas import read_csv, merge\n",
    "from PIL import Image\n",
    "import matplotlib.pyplot as plt"
   ]
  },
  {
   "cell_type": "code",
   "execution_count": 4,
   "metadata": {},
   "outputs": [],
   "source": [
    "#creating two dataframes from two mapping files: gz2_filename_mapping.csv and gz2_hart16.csv\n",
    "\n",
    "labels_df = read_csv(os.path.join(\"galaxyZoo/gz2_hart16.csv\")) #csv file containing the classification associated with each SDSS object\n",
    "img_id_df = read_csv(os.path.join(\"galaxyZoo/gz2_filename_mapping.csv\")) #csv file containing the SDSS object id associated with each image"
   ]
  },
  {
   "cell_type": "code",
   "execution_count": 5,
   "metadata": {},
   "outputs": [],
   "source": [
    "#cleaning up  dataframes in preperation for merging\n",
    "\n",
    "#fixing the classification dataframe\n",
    "labels_df.rename(columns={'dr7objid': \"specobjid\"}, inplace=True) # we renamed the column \"dr7objid\" to \"specobjid\" so we can merge based on the similar column\n",
    "relevant_columns = ['specobjid', 'gz2_class']  # here we decided what columns to remove\n",
    "\n",
    "smaller_df = labels_df[relevant_columns].copy()  # here we removed all the other columns we aren't using from the classification dataframe\n",
    "smaller_df = smaller_df.sort_values(by = \"specobjid\") #sort the values by the SDSS id from smallest to largest\n",
    "\n",
    "smaller_df[\"specobjid\"] = smaller_df[\"specobjid\"].astype(int) #weirdly enough, the values in the SDSS id column were strings so we converted them to ints\n",
    "\n",
    "#fixing the image id dataframe\n",
    "img_id_df = img_id_df.dropna() #dropping any rows with NaN values\n",
    "img_id_df = img_id_df.sort_values(by = \"specobjid\") #sort the values by the SDSS id from smallest to largest\n",
    "#DELETE-> img_id_df = img_id_df.head(239695) \n",
    "\n"
   ]
  },
  {
   "cell_type": "code",
   "execution_count": 6,
   "metadata": {},
   "outputs": [
    {
     "name": "stdout",
     "output_type": "stream",
     "text": [
      "                 specobjid gz2_class    sample  asset_id\n",
      "0       587722981741363294        Sb  original         3\n",
      "1       587722981741363323      Sc?l  original         4\n",
      "2       587722981741428877  SBb3m(r)     extra    245612\n",
      "3       587722981741559888        Er  original         5\n",
      "4       587722981741625481      Sc1t  original         6\n",
      "...                    ...       ...       ...       ...\n",
      "239690  588848901537988759        Ei  original    245605\n",
      "239691  588848901538447575        Ei  original    245606\n",
      "239692  588848901538578615     SBb2m  original    245607\n",
      "239693  588848901539430566        Ec  original    245608\n",
      "239694  588848901539627254     SBc?m  original    245609\n",
      "\n",
      "[239695 rows x 4 columns]\n"
     ]
    }
   ],
   "source": [
    "#merging the two dataframes on the SDSS id column, which was already aligned\n",
    "merge_df = merge(smaller_df, img_id_df, on = \"specobjid\", how = \"inner\")\n",
    "print(merge_df)\n",
    "\n",
    "#at this point there are 194952 possible images"
   ]
  },
  {
   "cell_type": "code",
   "execution_count": 27,
   "metadata": {},
   "outputs": [],
   "source": [
    "#creating the final dataframe, which has image id, SDSS id, and classification aligned correctly\n",
    "\n",
    "img_name = os.listdir(\"galaxyZoo/images/\") #list of every image in the directory\n",
    "\n",
    "asset_id = []\n",
    "for name in img_name: #going through each image and removing the suffix, so that it will eventually match the image id\n",
    "    name = name.removesuffix(\".jpg\") #cool function that autopopulated instead of splicing\n",
    "    name = int(name) \n",
    "    asset_id.append(name) #adding to a list\n",
    "#there are 14060 images in the directory\n",
    "\n",
    "#creates a mask \n",
    "    #if the value in the merged dataframes image id column is also in the directory the value will return as true and\n",
    "    #be kept, otherwise it's dropped\n",
    "mask = merge_df[\"asset_id\"].isin(asset_id)\n",
    "final_df = merge_df[mask]\n",
    "final_df = final_df.sort_values(by = \"asset_id\") #sorts the values by image id from least to greatest\n",
    "#there are 13965 possible images\n",
    "\n",
    "#final_df.to_csv(\"please.csv\") --> for saving the dataframe "
   ]
  },
  {
   "cell_type": "code",
   "execution_count": 8,
   "metadata": {},
   "outputs": [
    {
     "name": "stdout",
     "output_type": "stream",
     "text": [
      "Removed 0 images\n"
     ]
    }
   ],
   "source": [
    "#this only needs to be run once on the original image directory\n",
    "#there are 95 images in the directory that are missing from the mapping files, so we need to remove them\n",
    "\n",
    "filenames_in_mapping = final_df['asset_id'].tolist() #takes the values in the image id column and puts it in a list\n",
    "filenames_in_mapping = [str(file) + \".jpg\" for file in filenames_in_mapping] #add .jpg to the end of the images\n",
    "\n",
    "count = 0\n",
    "for filename in os.listdir(\"galaxyZoo/images/\"): \n",
    "    if filename not in filenames_in_mapping: \n",
    "        file_path = os.path.join(\"galaxyZoo/images/\", filename)\n",
    "        os.remove(file_path) #removes image \n",
    "        count += 1\n",
    "print(f\"Removed {count} images\") \n",
    "        "
   ]
  },
  {
   "cell_type": "code",
   "execution_count": 9,
   "metadata": {},
   "outputs": [],
   "source": [
    "#we take all the classification values and one hot encode them for model fitting\n",
    "\n",
    "spec_list = []\n",
    "class_df = final_df[\"gz2_class\"]\n",
    "for n in class_df:\n",
    "    spec_list.append(n)\n",
    "spec_list = [s[:2] for s in spec_list] #cuts all the weird stuff from the classification\n",
    "#batch because laptop doesn't have enough memory\n",
    "spec_list = spec_list[:14000]\n",
    "\n",
    "label_encoder = LabelEncoder() \n",
    "specs = label_encoder.fit_transform(spec_list) #one hot encodes the classification"
   ]
  },
  {
   "cell_type": "code",
   "execution_count": 10,
   "metadata": {},
   "outputs": [],
   "source": [
    "#adds the images to an array\n",
    "    #right now i cut it down to the first 4805 images because that's exactly how much ran before crashing\n",
    "dir = os.listdir(\"galaxyZoo/images/\")\n",
    "dir.sort()\n",
    "x = []\n",
    "n = 0\n",
    "h = 200\n",
    "w = 200\n",
    "top = 112\n",
    "right = 112\n",
    "\n",
    "while n < 13965: \n",
    "    for filename in dir:\n",
    "        image = Image.open(f\"galaxyZoo/images/{filename}\")\n",
    "        img_array = np.array(image)\n",
    "        img_array = img_array[top: (top + h), right: (right + w)] #cropping the image to the center 200 by 200 pixels\n",
    "        x.append(img_array)\n",
    "        n +=1\n",
    "        if n >= 13965:\n",
    "            break\n",
    "x = np.array(x)"
   ]
  },
  {
   "cell_type": "code",
   "execution_count": 11,
   "metadata": {},
   "outputs": [],
   "source": [
    "#created the train and test\n",
    "\n",
    "specs = to_categorical(specs) \n",
    "x_train, x_test, y_train, y_test = train_test_split(x, specs, test_size=0.5, random_state=42)"
   ]
  },
  {
   "cell_type": "code",
   "execution_count": 12,
   "metadata": {},
   "outputs": [
    {
     "name": "stderr",
     "output_type": "stream",
     "text": [
      "/home/codespace/.python/current/lib/python3.10/site-packages/keras/src/layers/convolutional/base_conv.py:99: UserWarning: Do not pass an `input_shape`/`input_dim` argument to a layer. When using Sequential models, prefer using an `Input(shape)` object as the first layer in the model instead.\n",
      "  super().__init__(\n",
      "2024-03-22 21:40:04.566980: W external/local_tsl/tsl/framework/cpu_allocator_impl.cc:83] Allocation of 69337088 exceeds 10% of free system memory.\n",
      "2024-03-22 21:40:04.606609: W external/local_tsl/tsl/framework/cpu_allocator_impl.cc:83] Allocation of 69337088 exceeds 10% of free system memory.\n",
      "2024-03-22 21:40:04.623090: W external/local_tsl/tsl/framework/cpu_allocator_impl.cc:83] Allocation of 69337088 exceeds 10% of free system memory.\n"
     ]
    },
    {
     "data": {
      "text/html": [
       "<pre style=\"white-space:pre;overflow-x:auto;line-height:normal;font-family:Menlo,'DejaVu Sans Mono',consolas,'Courier New',monospace\"><span style=\"font-weight: bold\">Model: \"sequential\"</span>\n",
       "</pre>\n"
      ],
      "text/plain": [
       "\u001b[1mModel: \"sequential\"\u001b[0m\n"
      ]
     },
     "metadata": {},
     "output_type": "display_data"
    },
    {
     "data": {
      "text/html": [
       "<pre style=\"white-space:pre;overflow-x:auto;line-height:normal;font-family:Menlo,'DejaVu Sans Mono',consolas,'Courier New',monospace\">┏━━━━━━━━━━━━━━━━━━━━━━━━━━━━━━━━━┳━━━━━━━━━━━━━━━━━━━━━━━━┳━━━━━━━━━━━━━━━┓\n",
       "┃<span style=\"font-weight: bold\"> Layer (type)                    </span>┃<span style=\"font-weight: bold\"> Output Shape           </span>┃<span style=\"font-weight: bold\">       Param # </span>┃\n",
       "┡━━━━━━━━━━━━━━━━━━━━━━━━━━━━━━━━━╇━━━━━━━━━━━━━━━━━━━━━━━━╇━━━━━━━━━━━━━━━┩\n",
       "│ conv2d (<span style=\"color: #0087ff; text-decoration-color: #0087ff\">Conv2D</span>)                 │ (<span style=\"color: #00d7ff; text-decoration-color: #00d7ff\">None</span>, <span style=\"color: #00af00; text-decoration-color: #00af00\">196</span>, <span style=\"color: #00af00; text-decoration-color: #00af00\">196</span>, <span style=\"color: #00af00; text-decoration-color: #00af00\">16</span>)   │         <span style=\"color: #00af00; text-decoration-color: #00af00\">1,216</span> │\n",
       "├─────────────────────────────────┼────────────────────────┼───────────────┤\n",
       "│ max_pooling2d (<span style=\"color: #0087ff; text-decoration-color: #0087ff\">MaxPooling2D</span>)    │ (<span style=\"color: #00d7ff; text-decoration-color: #00d7ff\">None</span>, <span style=\"color: #00af00; text-decoration-color: #00af00\">98</span>, <span style=\"color: #00af00; text-decoration-color: #00af00\">98</span>, <span style=\"color: #00af00; text-decoration-color: #00af00\">16</span>)     │             <span style=\"color: #00af00; text-decoration-color: #00af00\">0</span> │\n",
       "├─────────────────────────────────┼────────────────────────┼───────────────┤\n",
       "│ conv2d_1 (<span style=\"color: #0087ff; text-decoration-color: #0087ff\">Conv2D</span>)               │ (<span style=\"color: #00d7ff; text-decoration-color: #00d7ff\">None</span>, <span style=\"color: #00af00; text-decoration-color: #00af00\">96</span>, <span style=\"color: #00af00; text-decoration-color: #00af00\">96</span>, <span style=\"color: #00af00; text-decoration-color: #00af00\">32</span>)     │         <span style=\"color: #00af00; text-decoration-color: #00af00\">4,640</span> │\n",
       "├─────────────────────────────────┼────────────────────────┼───────────────┤\n",
       "│ rescaling (<span style=\"color: #0087ff; text-decoration-color: #0087ff\">Rescaling</span>)           │ (<span style=\"color: #00d7ff; text-decoration-color: #00d7ff\">None</span>, <span style=\"color: #00af00; text-decoration-color: #00af00\">96</span>, <span style=\"color: #00af00; text-decoration-color: #00af00\">96</span>, <span style=\"color: #00af00; text-decoration-color: #00af00\">32</span>)     │             <span style=\"color: #00af00; text-decoration-color: #00af00\">0</span> │\n",
       "├─────────────────────────────────┼────────────────────────┼───────────────┤\n",
       "│ max_pooling2d_1 (<span style=\"color: #0087ff; text-decoration-color: #0087ff\">MaxPooling2D</span>)  │ (<span style=\"color: #00d7ff; text-decoration-color: #00d7ff\">None</span>, <span style=\"color: #00af00; text-decoration-color: #00af00\">48</span>, <span style=\"color: #00af00; text-decoration-color: #00af00\">48</span>, <span style=\"color: #00af00; text-decoration-color: #00af00\">32</span>)     │             <span style=\"color: #00af00; text-decoration-color: #00af00\">0</span> │\n",
       "├─────────────────────────────────┼────────────────────────┼───────────────┤\n",
       "│ dropout (<span style=\"color: #0087ff; text-decoration-color: #0087ff\">Dropout</span>)               │ (<span style=\"color: #00d7ff; text-decoration-color: #00d7ff\">None</span>, <span style=\"color: #00af00; text-decoration-color: #00af00\">48</span>, <span style=\"color: #00af00; text-decoration-color: #00af00\">48</span>, <span style=\"color: #00af00; text-decoration-color: #00af00\">32</span>)     │             <span style=\"color: #00af00; text-decoration-color: #00af00\">0</span> │\n",
       "├─────────────────────────────────┼────────────────────────┼───────────────┤\n",
       "│ conv2d_2 (<span style=\"color: #0087ff; text-decoration-color: #0087ff\">Conv2D</span>)               │ (<span style=\"color: #00d7ff; text-decoration-color: #00d7ff\">None</span>, <span style=\"color: #00af00; text-decoration-color: #00af00\">46</span>, <span style=\"color: #00af00; text-decoration-color: #00af00\">46</span>, <span style=\"color: #00af00; text-decoration-color: #00af00\">64</span>)     │        <span style=\"color: #00af00; text-decoration-color: #00af00\">18,496</span> │\n",
       "├─────────────────────────────────┼────────────────────────┼───────────────┤\n",
       "│ max_pooling2d_2 (<span style=\"color: #0087ff; text-decoration-color: #0087ff\">MaxPooling2D</span>)  │ (<span style=\"color: #00d7ff; text-decoration-color: #00d7ff\">None</span>, <span style=\"color: #00af00; text-decoration-color: #00af00\">23</span>, <span style=\"color: #00af00; text-decoration-color: #00af00\">23</span>, <span style=\"color: #00af00; text-decoration-color: #00af00\">64</span>)     │             <span style=\"color: #00af00; text-decoration-color: #00af00\">0</span> │\n",
       "├─────────────────────────────────┼────────────────────────┼───────────────┤\n",
       "│ flatten (<span style=\"color: #0087ff; text-decoration-color: #0087ff\">Flatten</span>)               │ (<span style=\"color: #00d7ff; text-decoration-color: #00d7ff\">None</span>, <span style=\"color: #00af00; text-decoration-color: #00af00\">33856</span>)          │             <span style=\"color: #00af00; text-decoration-color: #00af00\">0</span> │\n",
       "├─────────────────────────────────┼────────────────────────┼───────────────┤\n",
       "│ dense (<span style=\"color: #0087ff; text-decoration-color: #0087ff\">Dense</span>)                   │ (<span style=\"color: #00d7ff; text-decoration-color: #00d7ff\">None</span>, <span style=\"color: #00af00; text-decoration-color: #00af00\">512</span>)            │    <span style=\"color: #00af00; text-decoration-color: #00af00\">17,334,784</span> │\n",
       "├─────────────────────────────────┼────────────────────────┼───────────────┤\n",
       "│ dropout_1 (<span style=\"color: #0087ff; text-decoration-color: #0087ff\">Dropout</span>)             │ (<span style=\"color: #00d7ff; text-decoration-color: #00d7ff\">None</span>, <span style=\"color: #00af00; text-decoration-color: #00af00\">512</span>)            │             <span style=\"color: #00af00; text-decoration-color: #00af00\">0</span> │\n",
       "├─────────────────────────────────┼────────────────────────┼───────────────┤\n",
       "│ dense_1 (<span style=\"color: #0087ff; text-decoration-color: #0087ff\">Dense</span>)                 │ (<span style=\"color: #00d7ff; text-decoration-color: #00d7ff\">None</span>, <span style=\"color: #00af00; text-decoration-color: #00af00\">10</span>)             │         <span style=\"color: #00af00; text-decoration-color: #00af00\">5,130</span> │\n",
       "└─────────────────────────────────┴────────────────────────┴───────────────┘\n",
       "</pre>\n"
      ],
      "text/plain": [
       "┏━━━━━━━━━━━━━━━━━━━━━━━━━━━━━━━━━┳━━━━━━━━━━━━━━━━━━━━━━━━┳━━━━━━━━━━━━━━━┓\n",
       "┃\u001b[1m \u001b[0m\u001b[1mLayer (type)                   \u001b[0m\u001b[1m \u001b[0m┃\u001b[1m \u001b[0m\u001b[1mOutput Shape          \u001b[0m\u001b[1m \u001b[0m┃\u001b[1m \u001b[0m\u001b[1m      Param #\u001b[0m\u001b[1m \u001b[0m┃\n",
       "┡━━━━━━━━━━━━━━━━━━━━━━━━━━━━━━━━━╇━━━━━━━━━━━━━━━━━━━━━━━━╇━━━━━━━━━━━━━━━┩\n",
       "│ conv2d (\u001b[38;5;33mConv2D\u001b[0m)                 │ (\u001b[38;5;45mNone\u001b[0m, \u001b[38;5;34m196\u001b[0m, \u001b[38;5;34m196\u001b[0m, \u001b[38;5;34m16\u001b[0m)   │         \u001b[38;5;34m1,216\u001b[0m │\n",
       "├─────────────────────────────────┼────────────────────────┼───────────────┤\n",
       "│ max_pooling2d (\u001b[38;5;33mMaxPooling2D\u001b[0m)    │ (\u001b[38;5;45mNone\u001b[0m, \u001b[38;5;34m98\u001b[0m, \u001b[38;5;34m98\u001b[0m, \u001b[38;5;34m16\u001b[0m)     │             \u001b[38;5;34m0\u001b[0m │\n",
       "├─────────────────────────────────┼────────────────────────┼───────────────┤\n",
       "│ conv2d_1 (\u001b[38;5;33mConv2D\u001b[0m)               │ (\u001b[38;5;45mNone\u001b[0m, \u001b[38;5;34m96\u001b[0m, \u001b[38;5;34m96\u001b[0m, \u001b[38;5;34m32\u001b[0m)     │         \u001b[38;5;34m4,640\u001b[0m │\n",
       "├─────────────────────────────────┼────────────────────────┼───────────────┤\n",
       "│ rescaling (\u001b[38;5;33mRescaling\u001b[0m)           │ (\u001b[38;5;45mNone\u001b[0m, \u001b[38;5;34m96\u001b[0m, \u001b[38;5;34m96\u001b[0m, \u001b[38;5;34m32\u001b[0m)     │             \u001b[38;5;34m0\u001b[0m │\n",
       "├─────────────────────────────────┼────────────────────────┼───────────────┤\n",
       "│ max_pooling2d_1 (\u001b[38;5;33mMaxPooling2D\u001b[0m)  │ (\u001b[38;5;45mNone\u001b[0m, \u001b[38;5;34m48\u001b[0m, \u001b[38;5;34m48\u001b[0m, \u001b[38;5;34m32\u001b[0m)     │             \u001b[38;5;34m0\u001b[0m │\n",
       "├─────────────────────────────────┼────────────────────────┼───────────────┤\n",
       "│ dropout (\u001b[38;5;33mDropout\u001b[0m)               │ (\u001b[38;5;45mNone\u001b[0m, \u001b[38;5;34m48\u001b[0m, \u001b[38;5;34m48\u001b[0m, \u001b[38;5;34m32\u001b[0m)     │             \u001b[38;5;34m0\u001b[0m │\n",
       "├─────────────────────────────────┼────────────────────────┼───────────────┤\n",
       "│ conv2d_2 (\u001b[38;5;33mConv2D\u001b[0m)               │ (\u001b[38;5;45mNone\u001b[0m, \u001b[38;5;34m46\u001b[0m, \u001b[38;5;34m46\u001b[0m, \u001b[38;5;34m64\u001b[0m)     │        \u001b[38;5;34m18,496\u001b[0m │\n",
       "├─────────────────────────────────┼────────────────────────┼───────────────┤\n",
       "│ max_pooling2d_2 (\u001b[38;5;33mMaxPooling2D\u001b[0m)  │ (\u001b[38;5;45mNone\u001b[0m, \u001b[38;5;34m23\u001b[0m, \u001b[38;5;34m23\u001b[0m, \u001b[38;5;34m64\u001b[0m)     │             \u001b[38;5;34m0\u001b[0m │\n",
       "├─────────────────────────────────┼────────────────────────┼───────────────┤\n",
       "│ flatten (\u001b[38;5;33mFlatten\u001b[0m)               │ (\u001b[38;5;45mNone\u001b[0m, \u001b[38;5;34m33856\u001b[0m)          │             \u001b[38;5;34m0\u001b[0m │\n",
       "├─────────────────────────────────┼────────────────────────┼───────────────┤\n",
       "│ dense (\u001b[38;5;33mDense\u001b[0m)                   │ (\u001b[38;5;45mNone\u001b[0m, \u001b[38;5;34m512\u001b[0m)            │    \u001b[38;5;34m17,334,784\u001b[0m │\n",
       "├─────────────────────────────────┼────────────────────────┼───────────────┤\n",
       "│ dropout_1 (\u001b[38;5;33mDropout\u001b[0m)             │ (\u001b[38;5;45mNone\u001b[0m, \u001b[38;5;34m512\u001b[0m)            │             \u001b[38;5;34m0\u001b[0m │\n",
       "├─────────────────────────────────┼────────────────────────┼───────────────┤\n",
       "│ dense_1 (\u001b[38;5;33mDense\u001b[0m)                 │ (\u001b[38;5;45mNone\u001b[0m, \u001b[38;5;34m10\u001b[0m)             │         \u001b[38;5;34m5,130\u001b[0m │\n",
       "└─────────────────────────────────┴────────────────────────┴───────────────┘\n"
      ]
     },
     "metadata": {},
     "output_type": "display_data"
    },
    {
     "data": {
      "text/html": [
       "<pre style=\"white-space:pre;overflow-x:auto;line-height:normal;font-family:Menlo,'DejaVu Sans Mono',consolas,'Courier New',monospace\"><span style=\"font-weight: bold\"> Total params: </span><span style=\"color: #00af00; text-decoration-color: #00af00\">17,364,266</span> (66.24 MB)\n",
       "</pre>\n"
      ],
      "text/plain": [
       "\u001b[1m Total params: \u001b[0m\u001b[38;5;34m17,364,266\u001b[0m (66.24 MB)\n"
      ]
     },
     "metadata": {},
     "output_type": "display_data"
    },
    {
     "data": {
      "text/html": [
       "<pre style=\"white-space:pre;overflow-x:auto;line-height:normal;font-family:Menlo,'DejaVu Sans Mono',consolas,'Courier New',monospace\"><span style=\"font-weight: bold\"> Trainable params: </span><span style=\"color: #00af00; text-decoration-color: #00af00\">17,364,266</span> (66.24 MB)\n",
       "</pre>\n"
      ],
      "text/plain": [
       "\u001b[1m Trainable params: \u001b[0m\u001b[38;5;34m17,364,266\u001b[0m (66.24 MB)\n"
      ]
     },
     "metadata": {},
     "output_type": "display_data"
    },
    {
     "data": {
      "text/html": [
       "<pre style=\"white-space:pre;overflow-x:auto;line-height:normal;font-family:Menlo,'DejaVu Sans Mono',consolas,'Courier New',monospace\"><span style=\"font-weight: bold\"> Non-trainable params: </span><span style=\"color: #00af00; text-decoration-color: #00af00\">0</span> (0.00 B)\n",
       "</pre>\n"
      ],
      "text/plain": [
       "\u001b[1m Non-trainable params: \u001b[0m\u001b[38;5;34m0\u001b[0m (0.00 B)\n"
      ]
     },
     "metadata": {},
     "output_type": "display_data"
    }
   ],
   "source": [
    "#defining the model\n",
    "model = Sequential([\n",
    "    Conv2D(16, kernel_size= (5,5), activation = \"relu\",input_shape = (200, 200, 3)),\n",
    "    MaxPooling2D(pool_size=(2, 2)),\n",
    "\n",
    "    Conv2D(32, kernel_size= (3,3), activation = \"relu\"),\n",
    "    Rescaling(1./255),\n",
    "    MaxPooling2D(pool_size=(2, 2)),\n",
    "\n",
    "    Dropout(0.25),\n",
    "    Conv2D(64, kernel_size= (3,3), activation = \"relu\"),\n",
    "    MaxPooling2D(pool_size=(2, 2)),\n",
    "\n",
    "    #all input should have a shape of 200 with 3 RGB channels\n",
    "    Flatten(), \n",
    "    Dense(512, activation='relu', ),\n",
    "    Dropout(0.25),\n",
    "    Dense(10, activation='softmax'), #last layer has an ouptut of 10 because there's 10 categories\n",
    "])\n",
    "model.summary()"
   ]
  },
  {
   "cell_type": "code",
   "execution_count": 13,
   "metadata": {},
   "outputs": [
    {
     "name": "stdout",
     "output_type": "stream",
     "text": [
      "Epoch 1/5\n"
     ]
    },
    {
     "name": "stderr",
     "output_type": "stream",
     "text": [
      "2024-03-22 21:40:04.803291: W external/local_tsl/tsl/framework/cpu_allocator_impl.cc:83] Allocation of 837840000 exceeds 10% of free system memory.\n",
      "2024-03-22 21:40:06.109021: W external/local_tsl/tsl/framework/cpu_allocator_impl.cc:83] Allocation of 69337088 exceeds 10% of free system memory.\n"
     ]
    },
    {
     "name": "stdout",
     "output_type": "stream",
     "text": [
      "\u001b[1m699/699\u001b[0m \u001b[32m━━━━━━━━━━━━━━━━━━━━\u001b[0m\u001b[37m\u001b[0m \u001b[1m192s\u001b[0m 271ms/step - accuracy: 0.1924 - loss: 1.9459 - val_accuracy: 0.2036 - val_loss: 1.9110\n",
      "Epoch 2/5\n",
      "\u001b[1m699/699\u001b[0m \u001b[32m━━━━━━━━━━━━━━━━━━━━\u001b[0m\u001b[37m\u001b[0m \u001b[1m194s\u001b[0m 260ms/step - accuracy: 0.1746 - loss: 1.9153 - val_accuracy: 0.2036 - val_loss: 1.9124\n",
      "Epoch 3/5\n",
      "\u001b[1m699/699\u001b[0m \u001b[32m━━━━━━━━━━━━━━━━━━━━\u001b[0m\u001b[37m\u001b[0m \u001b[1m174s\u001b[0m 250ms/step - accuracy: 0.1970 - loss: 1.9148 - val_accuracy: 0.2036 - val_loss: 1.9074\n",
      "Epoch 4/5\n",
      "\u001b[1m699/699\u001b[0m \u001b[32m━━━━━━━━━━━━━━━━━━━━\u001b[0m\u001b[37m\u001b[0m \u001b[1m198s\u001b[0m 245ms/step - accuracy: 0.1970 - loss: 1.9046 - val_accuracy: 0.1872 - val_loss: 1.9129\n",
      "Epoch 5/5\n",
      "\u001b[1m699/699\u001b[0m \u001b[32m━━━━━━━━━━━━━━━━━━━━\u001b[0m\u001b[37m\u001b[0m \u001b[1m208s\u001b[0m 253ms/step - accuracy: 0.1847 - loss: 1.9061 - val_accuracy: 0.1872 - val_loss: 1.9175\n"
     ]
    },
    {
     "data": {
      "text/plain": [
       "<keras.src.callbacks.history.History at 0x7fe5c8ec5ab0>"
      ]
     },
     "execution_count": 13,
     "metadata": {},
     "output_type": "execute_result"
    }
   ],
   "source": [
    "#the model is fit and 15 epochs are run\n",
    "\n",
    "model.compile(\n",
    "    loss='categorical_crossentropy',\n",
    "    optimizer='Adam',\n",
    "    metrics=['accuracy']\n",
    ")\n",
    "model.fit(\n",
    "    x_train,\n",
    "    y_train,\n",
    "    epochs = 5, \n",
    "    validation_data = (x_test, y_test),\n",
    "    batch_size = 10,\n",
    ")\n"
   ]
  },
  {
   "cell_type": "code",
   "execution_count": 14,
   "metadata": {},
   "outputs": [
    {
     "data": {
      "image/png": "[encoded data removed]",
      "text/plain": [
       "<Figure size 640x480 with 1 Axes>"
      ]
     },
     "metadata": {},
     "output_type": "display_data"
    }
   ],
   "source": [
    "plt.plot(model.history.history['loss'],color='b',\n",
    "label='Training Loss')\n",
    "plt.plot(model.history.history['val_loss'],color='r',\n",
    "label='Validation Loss')\n",
    "plt.title(\"V1 Loss\")\n",
    "plt.legend()\n",
    "plt.show()"
   ]
  },
  {
   "cell_type": "code",
   "execution_count": 15,
   "metadata": {},
   "outputs": [
    {
     "data": {
      "image/png": "[encoded data removed]",
      "text/plain": [
       "<Figure size 640x480 with 1 Axes>"
      ]
     },
     "metadata": {},
     "output_type": "display_data"
    }
   ],
   "source": [
    "plt.plot(model.history.history['accuracy'],color='b',\n",
    "label='Training  Accuracy')\n",
    "plt.plot(model.history.history['val_accuracy'],color='r',\n",
    "label='Validation Accuracy')\n",
    "plt.title(\"V1 Accuracy\")\n",
    "plt.legend()\n",
    "plt.show()"
   ]
  },
  {
   "cell_type": "code",
   "execution_count": 24,
   "metadata": {},
   "outputs": [],
   "source": [
    "#testing the model \n",
    "#model.evaluate(x_test, y_test)\n",
    "\n",
    "#with the last image, which wasn't included in the training or testing\n",
    "    #there are 10 output columns in 115405\n",
    "img = Image.open(\"galaxyZoo/images/11.jpg\") #testing with the last image\n",
    "img = np.array(img)\n",
    "img = img[top: (top + h), right: (right + w)] #cropping the image to the center 200 by 200 pixels\n",
    "img = np.reshape(img, (200, 200, 3))\n",
    "# predict = model.predict(x_test)\n",
    "# print(predict)\n",
    "img = np.expand_dims(img, axis=0)\n",
    "#calling model?\n",
    "predict = model(img)\n",
    "predict = predict.numpy()\n"
   ]
  },
  {
   "cell_type": "code",
   "execution_count": 25,
   "metadata": {},
   "outputs": [
    {
     "name": "stdout",
     "output_type": "stream",
     "text": [
      "[0.0065718456171453, 0.045019812881946564, 0.18603383004665375, 0.1598265916109085, 0.20307554304599762, 0.0036522268783301115, 0.14061212539672852, 0.1541462540626526, 0.019691102206707, 0.0813707560300827]\n",
      "the image is classified as: SB\n"
     ]
    }
   ],
   "source": [
    "a = predict.tolist()\n",
    "a = a[0]\n",
    "\n",
    "\n",
    "the_good_list = a.copy() \n",
    "\n",
    "the_good_list.sort(reverse = True)\n",
    "print(a)\n",
    "b = the_good_list[0]\n",
    "\n",
    "max_index = a.index(b) \n",
    "\n",
    "print(\"the image is classified as: \", end = \"\")\n",
    "match max_index:\n",
    "    case 0:\n",
    "        print(\"A\")\n",
    "    case 1:\n",
    "        print(\"Ec\")\n",
    "    case 2:\n",
    "        print(\"Ei\")\n",
    "    case 3:\n",
    "        print(\"Er\")\n",
    "    case 4:\n",
    "        print(\"SB\")\n",
    "    case 5:\n",
    "        print(\"Sa\")\n",
    "    case 6:\n",
    "        print(\"Sb\")\n",
    "    case 7:\n",
    "        print(\"Sc\")\n",
    "    case 8:\n",
    "        print(\"Sd\")\n",
    "    case 9:\n",
    "        print(\"Se\")\n"
   ]
  }
 ],
 "metadata": {
  "kernelspec": {
   "display_name": "Python 3",
   "language": "python",
   "name": "python3"
  },
  "language_info": {
   "codemirror_mode": {
    "name": "ipython",
    "version": 3
   },
   "file_extension": ".py",
   "mimetype": "text/x-python",
   "name": "python",
   "nbconvert_exporter": "python",
   "pygments_lexer": "ipython3",
   "version": "3.10.13"
  }
 },
 "nbformat": 4,
 "nbformat_minor": 2
}
