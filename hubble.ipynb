{
 "cells": [
  {
   "cell_type": "code",
   "execution_count": 1,
   "metadata": {},
   "outputs": [],
   "source": [
    "#dumb installs\n",
    "%load_ext autoreload\n",
    "%autoreload 2\n",
    "\n",
    "import os\n",
    "import numpy as np"
   ]
  },
  {
   "cell_type": "code",
   "execution_count": 2,
   "metadata": {},
   "outputs": [
    {
     "name": "stderr",
     "output_type": "stream",
     "text": [
      "2024-03-17 22:43:44.368711: I external/local_tsl/tsl/cuda/cudart_stub.cc:31] Could not find cuda drivers on your machine, GPU will not be used.\n",
      "2024-03-17 22:43:44.402455: E external/local_xla/xla/stream_executor/cuda/cuda_dnn.cc:9261] Unable to register cuDNN factory: Attempting to register factory for plugin cuDNN when one has already been registered\n",
      "2024-03-17 22:43:44.402498: E external/local_xla/xla/stream_executor/cuda/cuda_fft.cc:607] Unable to register cuFFT factory: Attempting to register factory for plugin cuFFT when one has already been registered\n",
      "2024-03-17 22:43:44.403625: E external/local_xla/xla/stream_executor/cuda/cuda_blas.cc:1515] Unable to register cuBLAS factory: Attempting to register factory for plugin cuBLAS when one has already been registered\n",
      "2024-03-17 22:43:44.409373: I external/local_tsl/tsl/cuda/cudart_stub.cc:31] Could not find cuda drivers on your machine, GPU will not be used.\n",
      "2024-03-17 22:43:44.409967: I tensorflow/core/platform/cpu_feature_guard.cc:182] This TensorFlow binary is optimized to use available CPU instructions in performance-critical operations.\n",
      "To enable the following instructions: AVX2 FMA, in other operations, rebuild TensorFlow with the appropriate compiler flags.\n"
     ]
    },
    {
     "name": "stderr",
     "output_type": "stream",
     "text": [
      "2024-03-17 22:43:45.361329: W tensorflow/compiler/tf2tensorrt/utils/py_utils.cc:38] TF-TRT Warning: Could not find TensorRT\n"
     ]
    }
   ],
   "source": [
    "from keras.models import Sequential\n",
    "from keras.layers import Flatten, Dense, Dropout, Rescaling\n",
    "from keras.layers import MaxPooling2D\n",
    "from keras.layers import Conv2D, MaxPooling2D\n",
    "from sklearn.model_selection import train_test_split\n",
    "from sklearn.preprocessing import LabelEncoder\n",
    "from keras.utils import to_categorical\n",
    "from pandas import read_csv, merge\n",
    "from PIL import Image\n",
    "import matplotlib.pylab as plt\n",
    "%matplotlib inline"
   ]
  },
  {
   "cell_type": "code",
   "execution_count": 3,
   "metadata": {},
   "outputs": [],
   "source": [
    "model = Sequential()\n",
    "\n",
    "model.add(Conv2D(32, kernel_size=(3,3),activation='relu',\n",
    "input_shape=(69,69,3)))\n",
    "model.add(Conv2D(64, (3, 3), activation='relu'))\n",
    "model.add(MaxPooling2D(pool_size=(2, 2)))\n",
    "model.add(Dropout(0.25))\n",
    "model.add(Flatten())\n",
    "model.add(Dense(128, activation='relu'))\n",
    "model.add(Dropout(0.5))\n",
    "model.add(Dense(10, activation='softmax'))"
   ]
  },
  {
   "cell_type": "code",
   "execution_count": 4,
   "metadata": {},
   "outputs": [],
   "source": [
    "data_path = \"galaxyZoo/\"\n",
    "labels_file = 'gz2_hart16.csv' \n",
    "\n",
    "labels_df = read_csv(os.path.join(data_path, labels_file))\n",
    "img_id_df = read_csv(os.path.join(data_path, \"gz2_filename_mapping.csv\"))"
   ]
  },
  {
   "cell_type": "code",
   "execution_count": 5,
   "metadata": {},
   "outputs": [
    {
     "name": "stdout",
     "output_type": "stream",
     "text": [
      "                 specobjid gz2_class\n",
      "85359   587722981741363294        Sb\n",
      "35562   587722981741363323      Sc?l\n",
      "168093  587722981741428877  SBb3m(r)\n",
      "212757  587722981741559888        Er\n",
      "57863   587722981741625481      Sc1t\n",
      "...                    ...       ...\n",
      "102590  588848901537988759        Ei\n",
      "180427  588848901538447575        Ei\n",
      "185027  588848901538578615     SBb2m\n",
      "231083  588848901539430566        Ec\n",
      "81854   588848901539627254     SBc?m\n",
      "\n",
      "[239695 rows x 2 columns]\n"
     ]
    }
   ],
   "source": [
    "labels_df.rename(columns={'dr7objid': \"specobjid\"}, inplace=True)\n",
    "relevant_columns = ['specobjid', 'gz2_class']  # Specify the columns you need\n",
    "\n",
    "smaller_df = labels_df[relevant_columns].copy()  # Create a new DataFrame with only the relevant columns\n",
    "# smaller_df = smaller_df.dropna()\n",
    "smaller_df = smaller_df.sort_values(by = \"specobjid\")\n",
    "print(smaller_df)\n",
    "\n",
    "smaller_df[\"specobjid\"] = smaller_df[\"specobjid\"].astype(int)\n",
    "\n",
    "img_id_df = img_id_df.dropna()\n",
    "img_id_df = img_id_df.sort_values(by = \"specobjid\")\n",
    "img_id_df = img_id_df.head(239695)\n",
    "\n"
   ]
  },
  {
   "cell_type": "code",
   "execution_count": 6,
   "metadata": {},
   "outputs": [
    {
     "name": "stdout",
     "output_type": "stream",
     "text": [
      "                 specobjid gz2_class    sample  asset_id\n",
      "0       587722981741363294        Sb  original         3\n",
      "1       587722981741363323      Sc?l  original         4\n",
      "2       587722981741428877  SBb3m(r)     extra    245612\n",
      "3       587722981741559888        Er  original         5\n",
      "4       587722981741625481      Sc1t  original         6\n",
      "...                    ...       ...       ...       ...\n",
      "194947  588011219683180778      Sc?m  original    201978\n",
      "194948  588011219683770432     Er(o)  original    201979\n",
      "194949  588011219683836110        Er  original    201980\n",
      "194950  588011219683967294        Er  original    201981\n",
      "194951  588011219684229338      Sc?t  original    201982\n",
      "\n",
      "[194952 rows x 4 columns]\n"
     ]
    }
   ],
   "source": [
    "merge_df = merge(smaller_df, img_id_df, on = \"specobjid\", how = \"inner\")\n",
    "print(merge_df)"
   ]
  },
  {
   "cell_type": "code",
   "execution_count": 7,
   "metadata": {},
   "outputs": [
    {
     "name": "stdout",
     "output_type": "stream",
     "text": [
      "(13965, 4)\n",
      "                 specobjid gz2_class    sample  asset_id\n",
      "8       587722981741756545        Sb  original        11\n",
      "101     587722981748113567   Sc?t(r)  original       100\n",
      "102     587722981748179130      Sc+t  original       101\n",
      "103     587722981748375756     SBc?t  original       102\n",
      "104     587722981748375801        Ei  original       103\n",
      "...                    ...       ...       ...       ...\n",
      "113121  587738947199893702        Sc  original    115401\n",
      "113122  587738947200024706       Ser  original    115402\n",
      "113123  587738947200024811        Ei  original    115403\n",
      "113124  587738947200155873        Ei  original    115404\n",
      "113125  587738947200352424        Er  original    115405\n",
      "\n",
      "[13965 rows x 4 columns]\n"
     ]
    }
   ],
   "source": [
    "img_name = os.listdir(\"galaxyZoo/images/\")\n",
    "\n",
    "asset_id = []\n",
    "\n",
    "for name in img_name:\n",
    "    name = name.removesuffix(\".jpg\")\n",
    "    name = int(name)\n",
    "    asset_id.append(name)\n",
    "#14060\n",
    "\n",
    "mask = merge_df[\"asset_id\"].isin(asset_id)\n",
    "final_df = merge_df[mask]\n",
    "print(final_df.shape)\n",
    "final_df = final_df.sort_values(by = \"asset_id\")\n",
    "print(final_df)\n",
    "#final_df.to_csv(\"please.csv\")"
   ]
  },
  {
   "cell_type": "code",
   "execution_count": 8,
   "metadata": {},
   "outputs": [
    {
     "name": "stdout",
     "output_type": "stream",
     "text": [
      "0\n"
     ]
    }
   ],
   "source": [
    "filenames_in_mapping = final_df['asset_id'].tolist()\n",
    "filenames_in_mapping = [str(file) + \".jpg\" for file in filenames_in_mapping]\n",
    "\n",
    "count = 0\n",
    "for filename in os.listdir(\"galaxyZoo/images/\"):\n",
    "    if filename not in filenames_in_mapping:\n",
    "        file_path = os.path.join(\"galaxyZoo/images/\", filename)\n",
    "        os.remove(file_path)\n",
    "        count += 1\n",
    "\n",
    "print(count)\n",
    "        "
   ]
  },
  {
   "cell_type": "markdown",
   "metadata": {},
   "source": [
    "https://github.com/jameslawlor/kaggle_galaxy_zoo/blob/master/galaxy_zoo_keras.ipynb\n"
   ]
  },
  {
   "cell_type": "code",
   "execution_count": 9,
   "metadata": {},
   "outputs": [
    {
     "name": "stdout",
     "output_type": "stream",
     "text": [
      "['Sb', 'Sc', 'Sc', 'SB', 'Ei', 'Er', 'SB', 'Er', 'Ei', 'SB', 'Sc', 'Er', 'Sc', 'Se', 'Er', 'Se', 'Sc', 'SB', 'Ei', 'Ei', 'Ei', 'Sb', 'Er', 'Sc', 'Er', 'SB', 'SB', 'Ei', 'SB', 'Sc', 'Ei', 'Sb', 'Sc', 'SB', 'Sb', 'Er', 'Ec', 'Se', 'Se', 'Sb', 'Se', 'Sb', 'Sc', 'SB', 'Sc', 'Ei', 'SB', 'Sb', 'Sb', 'SB', 'Sb', 'SB', 'Sc', 'Er', 'Se', 'Ei', 'Sb', 'Er', 'Er', 'Sc', 'SB', 'Ei', 'Ei', 'Sc', 'SB', 'Ec', 'Ei', 'Er', 'Ei', 'SB', 'Er', 'Ei', 'Ei', 'SB', 'Ei', 'SB', 'Sb', 'Sb', 'Sc', 'Er', 'Ei', 'Sc', 'Sb', 'SB', 'SB', 'Sc', 'Ei', 'Sb', 'Sc', 'Ei', 'Er', 'Ei', 'SB', 'Sc', 'SB', 'Sc', 'Se', 'Er', 'Ei', 'Er', 'SB', 'Er', 'SB', 'Ei', 'Er', 'Ei', 'Se', 'SB', 'Ei', 'Sb', 'Ei', 'Er', 'Sc', 'Sc', 'Se', 'Er', 'SB', 'SB', 'SB', 'Ei', 'Er', 'Sb', 'Sc', 'Se', 'Ei', 'SB', 'Er', 'Sc', 'Ec', 'Sc', 'Er', 'SB', 'Er', 'Ei', 'Sc', 'Ei', 'Sc', 'Sc', 'Sb', 'Sc', 'Sc', 'Sc', 'Er', 'Ei', 'Er', 'SB', 'Ec', 'Ei', 'Ei', 'Sb', 'Ei', 'Ei', 'SB', 'Ec', 'Se', 'Er', 'Sc', 'Ei', 'Sc', 'Ei', 'Sc', 'Sc', 'Er', 'Sb', 'Ei', 'Sc', 'Sc', 'Ei', 'Er', 'Er', 'Er', 'SB', 'Er', 'Sb', 'Se', 'SB', 'Ei', 'Sd', 'Er', 'Sc', 'Sc', 'Ec', 'SB', 'Ei', 'SB', 'Er', 'Er', 'SB', 'SB', 'Sc', 'SB', 'SB', 'Sb', 'Sb', 'Se', 'A', 'Ei', 'Er', 'SB', 'Sc', 'Sb', 'SB', 'Sb', 'Er', 'Sb', 'Sb', 'Er', 'SB', 'Se', 'SB', 'Er', 'Ei', 'Ei', 'Sc', 'Sc', 'Er', 'SB', 'Sc', 'SB', 'Ei', 'Er', 'Sc', 'Sb', 'Er', 'Sb', 'Sb', 'Er', 'Er', 'Sc', 'Ei', 'Se', 'Er', 'Er', 'Sb', 'SB', 'Sb', 'Sd', 'Er', 'Se', 'Sc', 'Ei', 'Er', 'SB', 'Ei', 'Ei', 'Sc', 'Sb', 'Sc', 'Er', 'Ec', 'Sa', 'Er', 'Se', 'Ei', 'SB', 'Se', 'Er', 'Ec', 'Sc', 'Er', 'Se', 'Sb', 'Se', 'A', 'Ei', 'Er', 'Er', 'Er', 'Sc', 'Sb', 'Ec', 'Sb', 'Sc', 'SB', 'SB', 'Er', 'Ei', 'Ec', 'Er', 'Ei', 'Er', 'Sc', 'Sb', 'Sd', 'Er', 'Er', 'Er', 'Er', 'Er', 'Sc', 'Sb', 'Ei', 'SB', 'Ei', 'Er', 'Sc', 'Sc', 'Sc', 'Ei', 'SB', 'Sd', 'Sc', 'Sb', 'Sc', 'SB', 'Er', 'Ei', 'Ei', 'Ec', 'SB', 'Sb', 'Sb', 'Sc', 'Ei', 'A', 'SB', 'Ei', 'Er', 'Ei', 'Er', 'Ec', 'SB', 'Ec', 'Ei', 'Ei', 'Sb', 'Ec', 'Er', 'Ei', 'SB', 'SB', 'Se', 'Se', 'Ei', 'Ei', 'Ei', 'Ei', 'SB', 'Sb', 'Ei', 'Ei', 'Se', 'SB', 'Er', 'Sb', 'Ei', 'Ei', 'Sc', 'SB', 'Er', 'Er', 'Sc', 'Ei', 'SB', 'Se', 'Er', 'Sc', 'Sb', 'SB', 'Sb', 'Sb', 'SB', 'Ei', 'Er', 'Se', 'Ei', 'Er', 'Er', 'Sb', 'Sc', 'Ei', 'Ec', 'Ei', 'Sb', 'Ei', 'SB', 'Ei', 'Sc', 'Ei', 'Sb', 'Sc', 'Ei', 'Ei', 'SB', 'Ei', 'SB', 'Er', 'Er', 'Sd', 'Er', 'Ei', 'Ei', 'Sb', 'Ei', 'SB', 'Sc', 'Er', 'Sc', 'Sb', 'SB', 'Sd', 'Ei', 'Ei', 'Er', 'Sc', 'Sc', 'Sc', 'Er', 'Er', 'SB', 'Ec', 'Sc', 'Se', 'Ei', 'Er', 'SB', 'SB', 'Er', 'Er', 'SB', 'Sc', 'Sb', 'Sb', 'Ei', 'SB', 'SB', 'Se', 'Sc', 'Sc', 'SB', 'Er', 'Se', 'Er', 'SB', 'Er', 'Ei', 'Er', 'A', 'Er', 'Se', 'Er', 'Ec', 'Sc', 'SB', 'SB', 'Sc', 'SB', 'Ec', 'Se', 'Er', 'Sc', 'Sc', 'Sb', 'SB', 'Se', 'SB', 'Ec', 'Er', 'Ei', 'Sc', 'Sc', 'Er', 'SB', 'Ei', 'Sc', 'Ec', 'Ei', 'Sb', 'Ei', 'Ei', 'Sc', 'Er', 'SB', 'SB', 'Ec', 'Ei', 'Sb', 'Er', 'SB', 'Ei', 'Sb', 'SB', 'Ei', 'Sc', 'Sb', 'Er', 'SB', 'Ei', 'Er', 'Ei', 'Er', 'Ei', 'Er', 'SB', 'Er', 'Er', 'SB', 'Ei', 'Sb', 'Ei', 'Ei', 'Sc', 'Er', 'Se', 'Er', 'Ec', 'Ei', 'Ei', 'Ei', 'Sc', 'Ei', 'SB', 'Sc', 'Sc', 'SB', 'Er', 'Ei', 'Ei', 'Ei', 'Er', 'Sc', 'Er', 'Er', 'SB', 'SB', 'Sa', 'Sc', 'SB', 'Ec', 'Er', 'Se', 'Sb', 'SB', 'Sb', 'Er', 'Ei', 'Er', 'Sc', 'Sc', 'Sc', 'SB', 'Ei', 'Er', 'Ei', 'Se', 'SB', 'Ei', 'Sc', 'Ei', 'Sc', 'Er', 'Er', 'Ei', 'Sc', 'SB', 'Sc', 'SB', 'Er', 'Ei', 'Sc', 'Er', 'Er', 'Ei', 'Sc', 'SB', 'Ei', 'Er', 'Se', 'Sb', 'Er', 'Sc', 'Sc', 'Er', 'Er', 'SB', 'Sb', 'Er', 'Sc', 'Sc', 'Er', 'Sb', 'Ei', 'Ei', 'Ei', 'Ei', 'Er', 'Ei', 'Ei', 'Er', 'Se', 'Se', 'Ec', 'Er', 'Ei', 'Er', 'Sc', 'Er', 'SB', 'Sb', 'Ei', 'Er', 'Ei', 'Se', 'Sc', 'Er', 'Ei', 'Se', 'Ec', 'SB', 'Ei', 'Sb', 'Sb', 'Er', 'Er', 'Sc', 'Sc', 'Er', 'Ei', 'Sb', 'Er', 'Ei', 'Sb', 'Sc', 'SB', 'Sb', 'Sc', 'Sb', 'SB', 'SB', 'Sc', 'Ei', 'Ei', 'Er', 'Sc', 'Se', 'Se', 'Ec', 'Se', 'Ei', 'Er', 'SB', 'Ei', 'Er', 'Ei', 'Ei', 'SB', 'Ei', 'Se', 'Sc', 'Er', 'SB', 'Ei', 'Ei', 'SB', 'Er', 'Sc', 'Ei', 'SB', 'SB', 'SB', 'Sc', 'Se', 'Sc', 'SB', 'Sc', 'Er', 'Ei', 'Sc', 'SB', 'Ei', 'SB', 'Er', 'Sb', 'Ei', 'Er', 'Sc', 'Ec', 'Er', 'SB', 'Sb', 'Ei', 'Er', 'Se', 'SB', 'Ei', 'SB', 'Sb', 'Sc', 'SB', 'Se', 'Er', 'Ei', 'Se', 'Sc', 'Sc', 'Sb', 'Ei', 'Er', 'Sb', 'Sb', 'Sb', 'Se', 'Sd', 'Er', 'SB', 'Sc', 'Ei', 'Ei', 'SB', 'Sc', 'Sd', 'SB', 'Sb', 'Ei', 'Ei', 'Se', 'Sb', 'Ei', 'Sb', 'Se', 'Ec', 'Sb', 'Ec', 'Se', 'SB', 'Se', 'Ei', 'SB', 'Er', 'Se', 'Ei', 'Se', 'Se', 'Er', 'Er', 'Sb', 'Ei', 'Se', 'Sb', 'Er', 'Er', 'Er', 'Ei', 'Ei', 'Sc', 'Ei', 'Sc', 'Er', 'Se', 'Er', 'SB', 'Ec', 'Ei', 'SB', 'Sc', 'Er', 'Sb', 'Ei', 'SB', 'Sb', 'Er', 'Ei', 'Sb', 'Sc', 'Sb', 'Er', 'Sc', 'Sb', 'SB', 'Sb', 'Sc', 'Sd', 'Er', 'Sb', 'Sb', 'Sc', 'Sc', 'Ec', 'Er', 'SB', 'Er', 'SB', 'Sc', 'Sb', 'Ei', 'Ec', 'Ec', 'Sb', 'SB', 'Sc', 'Ei', 'A', 'Ei', 'Er', 'Er', 'SB', 'SB', 'Se', 'SB', 'Se', 'Ei', 'Er', 'Er', 'Er', 'Er', 'Sb', 'Er', 'Er', 'Sb', 'SB', 'Er', 'Ei', 'Ei', 'Ei', 'Er', 'Er', 'Ei', 'Er', 'Ei', 'Ei', 'Sc', 'Ei', 'Er', 'Ei', 'Sb', 'SB', 'Er', 'SB', 'Er', 'Sc', 'SB', 'Er', 'Sb', 'Er', 'Ei', 'Er', 'Er', 'Ec', 'Ei', 'Sb', 'SB', 'Ei', 'Ei', 'Sc', 'SB', 'Sb', 'Sb', 'SB', 'Er', 'SB', 'Er', 'Er', 'Sb', 'SB', 'Sc', 'Se', 'Se', 'Er', 'Er', 'SB', 'Ei', 'SB', 'SB', 'Sb', 'Sb', 'SB', 'A', 'SB', 'SB', 'Ei', 'Sc', 'Er', 'Ei', 'Ec', 'Ei', 'Sc', 'SB', 'Se', 'SB', 'Ei', 'Ei', 'Er', 'Se', 'Sc', 'Ei', 'Sc', 'Er', 'Ei', 'SB', 'Sc', 'Sc', 'Sb', 'Sc', 'SB', 'SB', 'SB', 'Sb', 'Sc', 'Se', 'Ei', 'SB', 'Se', 'Ei', 'Ei', 'Er', 'SB', 'Ei', 'Ei', 'Se', 'Sb', 'SB', 'Er', 'Ei', 'Er', 'Sb', 'SB', 'Er', 'Ec', 'Ei', 'Sc', 'Ei', 'Ei', 'Er', 'Sc', 'Er', 'Sb', 'Sb', 'Ec', 'Er', 'SB', 'Er', 'Ei', 'Ei', 'Ec', 'Ei', 'Sc', 'SB', 'Er', 'Sc', 'Sc', 'SB', 'SB', 'SB', 'SB', 'SB', 'Ei', 'Ei', 'Sc', 'Ei', 'SB', 'Ei', 'SB', 'Ei', 'Er', 'Sb', 'SB', 'SB', 'Se', 'SB', 'Sc', 'Sc', 'Sc', 'SB', 'Er', 'Er', 'Se', 'Ec', 'Sc', 'SB', 'Se', 'Sb', 'Er', 'Sb', 'Ei', 'Er', 'Er', 'Sc', 'Sb', 'Sb', 'SB', 'SB', 'Ei', 'Sc', 'Er', 'SB', 'SB', 'Sb', 'Sb', 'Er', 'Ei', 'SB', 'Sb', 'Sc', 'Er', 'Sc', 'Sc', 'Sc', 'Er', 'Sc', 'SB', 'Sc', 'SB', 'Sc', 'SB', 'Er', 'Ei', 'SB', 'Sd', 'Ei', 'Se', 'Sc', 'Ei', 'SB', 'Ec', 'Ei', 'Ei', 'SB', 'Sb', 'Sb', 'Er', 'Ei', 'SB', 'Sb', 'Sc', 'SB', 'SB', 'Sb', 'Sc', 'Er', 'Sb', 'Er', 'Sb', 'Ei', 'Er', 'Sc', 'Sc', 'Er', 'SB', 'Se', 'SB', 'Sb', 'Sb', 'Sc', 'Er', 'SB', 'SB', 'Er', 'Ei', 'Ei', 'Sc', 'Sb', 'Ei', 'Ei', 'SB', 'Sc', 'Sc', 'Er', 'Ei', 'Ei', 'SB', 'Ei', 'Ei', 'Ei', 'Ei', 'SB', 'Sc', 'SB', 'Sb', 'Sc', 'SB', 'Ei', 'Er', 'Sc', 'Sc', 'Er', 'Se', 'Ec', 'Er', 'Sb', 'SB', 'Sc', 'Er', 'Ei', 'Er', 'Ei', 'Sc', 'SB', 'SB', 'Se', 'SB', 'Sc', 'Er', 'Sb', 'SB', 'Sc', 'Sc', 'Sc', 'Er', 'Sb', 'Er', 'Er', 'Ei', 'Sc', 'SB', 'Sc', 'SB', 'Er', 'Sb', 'Er', 'Er', 'Sb', 'Ei', 'Er', 'Ec', 'Ei', 'SB', 'Sc', 'Er', 'Sa', 'SB', 'Sb', 'Er', 'Ei', 'SB', 'Se', 'Er', 'Er', 'Er', 'Sc', 'Sc', 'Sb', 'SB', 'Er', 'SB', 'Ei', 'SB', 'Er', 'Er', 'Ei', 'Sc', 'Ei', 'Sc', 'Se', 'Sc', 'Se', 'Sb', 'Er', 'Er', 'Sb', 'Ei', 'Ei', 'Er', 'Sb', 'Sb', 'Sd', 'Er', 'SB', 'Er', 'Sc', 'SB', 'Se', 'Sb', 'Sb', 'SB', 'Ec', 'Ei', 'Se', 'Se', 'Sc', 'Se', 'Er', 'Sc', 'Ec', 'Ei', 'Sb', 'Ei', 'Er', 'Er', 'Er', 'Se', 'Ei', 'Ei', 'Ei', 'Sc', 'SB', 'Sb', 'Sc', 'Ec', 'Er', 'SB', 'Ei', 'SB', 'SB', 'Er', 'Sb', 'Sb', 'SB', 'Ec', 'Sb', 'SB', 'Sb', 'SB', 'Sc', 'Sc', 'Sc', 'Sb', 'Er', 'Sb', 'Ei', 'Ei', 'Er', 'Sb', 'Sb', 'Ei', 'Er', 'Ei', 'Ei', 'Sc', 'Se', 'Sb', 'Ei', 'Er', 'Er', 'Er', 'Er', 'Er', 'Sc', 'Er', 'Sc', 'A', 'Er', 'Ec', 'Er', 'Ei', 'SB', 'SB', 'Ei', 'Se', 'Sc', 'Sc', 'Sc', 'SB', 'Ei', 'Ei', 'Ei', 'Sb', 'Er', 'Ec', 'Er', 'Ei', 'Sc', 'Er', 'Sc', 'Er', 'Sb', 'Er', 'Sc', 'Er', 'Ei', 'Er', 'Er', 'Ei', 'Ei', 'Sc', 'Ei', 'Ei', 'Ei', 'Ei', 'Er', 'Er', 'Ei', 'Ei', 'Ec', 'Ei', 'Er', 'Ec', 'Er', 'Sb', 'Se', 'Se', 'Ei', 'Sb', 'Er', 'Sc', 'Sc', 'Ei', 'Sc', 'Ec', 'Ei', 'Se', 'Sc', 'Sc', 'Ei', 'Sb', 'Er', 'Er', 'Er', 'Er', 'Ei', 'SB', 'SB', 'Sc', 'Ei', 'SB', 'Sb', 'SB', 'Sc', 'SB', 'Sb', 'SB', 'Sc', 'Ei', 'Ei', 'Sc', 'SB', 'Sc', 'Sb', 'Sc', 'Er', 'Er', 'Er', 'SB', 'Er', 'Sb', 'Sb', 'Er', 'SB', 'Ei', 'Ei', 'Sb', 'Ei', 'Ei', 'Ei', 'Se', 'Sc', 'Sc', 'Er', 'Ec', 'Sc', 'Ei', 'Ei', 'Er', 'Sc', 'Ei', 'Er', 'Sc', 'SB', 'Sb', 'Ei', 'Er', 'Se', 'Se', 'Ei', 'Er', 'Se', 'SB', 'SB', 'Ei', 'Ei', 'Se', 'Sc', 'Ei', 'SB', 'Sb', 'Ei', 'SB', 'Sc', 'Er', 'Sc', 'Er', 'Er', 'Sd', 'Sb', 'Er', 'Se', 'Sb', 'Er', 'Sb', 'Sc', 'Ei', 'Sb', 'Sb', 'SB', 'Se', 'Ei', 'Sc', 'Sb', 'SB', 'Ei', 'Sb', 'SB', 'Sc', 'Er', 'Sb', 'Er', 'Ei', 'Ei', 'Ec', 'Se', 'Se', 'Se', 'SB', 'Se', 'SB', 'Sb', 'Sc', 'SB', 'Sc', 'Sc', 'Sc', 'SB', 'SB', 'Er', 'Sb', 'Ei', 'Sc', 'Sc', 'SB', 'Sc', 'SB', 'SB', 'SB', 'Ei', 'SB', 'Ei', 'Sc', 'Sb', 'Sb', 'Ei', 'Er', 'Sb', 'Ei', 'SB', 'Ei', 'Se', 'Se', 'Er', 'SB', 'SB', 'Sc', 'Sb', 'Ei', 'Sc', 'Er', 'Ei', 'SB', 'Sc', 'Ec', 'Sc', 'Er', 'SB', 'Er', 'Er', 'Sc', 'Er', 'Ei', 'Sc', 'Sb', 'Sc', 'Ec', 'Se', 'Sb', 'Ei', 'Ec', 'Sc', 'Se', 'Sc', 'Er', 'Sb', 'Se', 'Ei', 'Er', 'SB', 'SB', 'Er', 'Ei', 'SB', 'Sc', 'Er', 'Sc', 'Er', 'Ec', 'Ei', 'Ei', 'SB', 'Sc', 'Se', 'Sc', 'Sb', 'Er', 'Se', 'Ei', 'Sb', 'Se', 'Se', 'SB', 'Er', 'Sc', 'SB', 'Er', 'Ei', 'Er', 'Ei', 'Sc', 'Ec', 'Se', 'Sa', 'Er', 'Sb', 'Er', 'Sc', 'Ei', 'SB', 'Ei', 'Se', 'Se', 'Ei', 'SB', 'SB', 'Er', 'Se', 'SB', 'Ei', 'Sc', 'Er', 'Sc', 'Sc', 'Ei', 'Sd', 'Ec', 'Sc', 'Sc', 'Sc', 'Ei', 'Se', 'Er', 'Er', 'Ec', 'Sb', 'Se', 'Ei', 'Sc', 'Sc', 'Sc', 'Sc', 'Ei', 'Sc', 'Sc', 'Ec', 'Sd', 'Ei', 'Ei', 'Ei', 'SB', 'Sc', 'Sb', 'Sc', 'Ec', 'Sc', 'Sc', 'SB', 'Sb', 'Se', 'Ec', 'SB', 'Sc', 'Ei', 'SB', 'SB', 'Ei', 'SB', 'Ei', 'Er', 'Ei', 'Sb', 'Er', 'Ei', 'Er', 'Ei', 'Ec', 'Ec', 'Ei', 'Ei', 'Sc', 'Ei', 'SB', 'Ei', 'Ei', 'SB', 'SB', 'SB', 'Ei', 'Er', 'Se', 'Sc', 'Sc', 'Ei', 'Se', 'Sc', 'Ei', 'Er', 'Er', 'SB', 'Sb', 'Sd', 'Ec', 'Ei', 'SB', 'Sc', 'Sb', 'SB', 'SB', 'Sc', 'Sc', 'Se', 'Sc', 'Se', 'SB', 'Sb', 'Ec', 'Sc', 'SB', 'Sc', 'Sc', 'Sb', 'Ec', 'SB', 'SB', 'SB', 'Se', 'Er', 'Se', 'Ei', 'SB', 'Er', 'SB', 'Er', 'Sb', 'SB', 'Ei', 'SB', 'Se', 'Sb', 'Ei', 'Ei', 'A', 'Se', 'Ec', 'Sb', 'Er', 'SB', 'SB', 'Er', 'Se', 'Ei', 'Ei', 'Er', 'Sb', 'Se', 'Ei', 'Sc', 'Se', 'Ei', 'Sb', 'Sb', 'Er', 'Sc', 'Er', 'Er', 'Sc', 'Sc', 'SB', 'SB', 'Se', 'SB', 'Sb', 'Ec', 'Ei', 'Ec', 'SB', 'Se', 'Sb', 'Er', 'Sc', 'Er', 'Sc', 'Sc', 'Er', 'Se', 'Sb', 'Er', 'Er', 'Sc', 'Se', 'SB', 'Sb', 'Sc', 'Er', 'Se', 'Sc', 'Ei', 'Sb', 'Er', 'Sc', 'SB', 'Sc', 'Sc', 'Sc', 'SB', 'Sb', 'Ei', 'Ei', 'Se', 'Er', 'Sc', 'Sc', 'Sc', 'SB', 'Ei', 'Se', 'SB', 'Sb', 'SB', 'Sc', 'Ei', 'Sc', 'SB', 'SB', 'Sb', 'Se', 'Ei', 'Sb', 'Ec', 'Sc', 'Sb', 'Sb', 'Ei', 'Sc', 'SB', 'Ei', 'Ei', 'Ec', 'Se', 'Ei', 'Ei', 'Sb', 'Sc', 'SB', 'Ei', 'Ei', 'Ei', 'Sc', 'Er', 'Sb', 'Sb', 'Ei', 'Ei', 'Er', 'Sc', 'Se', 'SB', 'SB', 'Ei', 'Sc', 'Ei', 'Se', 'Sb', 'Er', 'Sc', 'Ei', 'SB', 'SB', 'Sc', 'Sb', 'Sc', 'Se', 'Ei', 'SB', 'Ei', 'Sc', 'Ei', 'SB', 'SB', 'Sb', 'Ei', 'Sc', 'Sb', 'Er', 'Er', 'SB', 'Sc', 'SB', 'Sc', 'Sc', 'Er', 'Sc', 'Ei', 'Er', 'Sc', 'Er', 'Sc', 'Sc', 'Ec', 'Ei', 'SB', 'SB', 'SB', 'Ei', 'Sc', 'Sc', 'Sb', 'Sb', 'Ei', 'Sc', 'Sc', 'SB', 'Er', 'Er', 'Er', 'Sc', 'Sc', 'Se', 'Sc', 'SB', 'Sc', 'SB', 'Ei', 'Sc', 'Ei', 'Se', 'SB', 'Ei', 'Ec', 'Ec', 'SB', 'SB', 'Se', 'Sc', 'Se', 'Ec', 'SB', 'Ei', 'SB', 'Ec', 'Sc', 'Ei', 'Sc', 'SB', 'Se', 'SB', 'Sc', 'Sc', 'SB', 'Sc', 'SB', 'Ei', 'Sb', 'Sc', 'Sc', 'Sb', 'Se', 'Sc', 'SB', 'Sb', 'SB', 'SB', 'Sc', 'Er', 'SB', 'Sc', 'Er', 'Ei', 'Sb', 'Ei', 'Er', 'SB', 'Ei', 'Er', 'Sb', 'SB', 'SB', 'SB', 'Er', 'Se', 'Ec', 'Sc', 'Sc', 'SB', 'Er', 'Ei', 'Se', 'SB', 'SB', 'Sc', 'Er', 'Er', 'Er', 'Se', 'SB', 'Sc', 'Se', 'Ei', 'Sb', 'SB', 'Sc', 'SB', 'SB', 'Se', 'Sc', 'SB', 'Er', 'Sb', 'SB', 'SB', 'Sc', 'Sc', 'Sb', 'Ec', 'Ei', 'Sc', 'Er', 'Sb', 'Sb', 'Sc', 'Sb', 'SB', 'Er', 'Ei', 'Se', 'SB', 'SB', 'Sc', 'SB', 'Se', 'SB', 'Ei', 'SB', 'Sc', 'SB', 'Er', 'Ei', 'SB', 'Ei', 'Sc', 'SB', 'Er', 'Sb', 'Ei', 'SB', 'Ec', 'Ei', 'Er', 'Ei', 'Ei', 'Er', 'Sb', 'Er', 'Ei', 'Ei', 'Sc', 'Ei', 'SB', 'Ei', 'Er', 'Sc', 'Er', 'Er', 'Er', 'SB', 'Sb', 'Sc', 'Sc', 'SB', 'Sb', 'Sb', 'SB', 'Sc', 'Sc', 'SB', 'Sc', 'Er', 'Sb', 'Er', 'SB', 'Ec', 'Ei', 'SB', 'Ei', 'Sc', 'Er', 'Er', 'SB', 'Sc', 'Ei', 'SB', 'Sb', 'Se', 'SB', 'Ec', 'Er', 'Ei', 'SB', 'SB', 'Er', 'Se', 'Sc', 'Ec', 'Sb', 'SB', 'SB', 'SB', 'Ei', 'Sc', 'SB', 'Sb', 'Sc', 'SB', 'Sd', 'Sc', 'Se', 'SB', 'Sc', 'SB', 'SB', 'Ei', 'Ei', 'Er', 'SB', 'Er', 'SB', 'SB', 'Sc', 'Sc', 'Sc', 'Sc', 'Ei', 'Er', 'Sb', 'Er', 'Sb', 'Ei', 'Sc', 'Sc', 'Sb', 'SB', 'Sc', 'Sc', 'SB', 'Se', 'Ei', 'SB', 'Sc', 'Sc', 'Er', 'Sc', 'Sc', 'Ei', 'Er', 'SB', 'SB', 'Er', 'Ec', 'Sc', 'Sb', 'SB', 'Ei', 'Ei', 'SB', 'Ei', 'SB', 'SB', 'Sb', 'Ei', 'SB', 'Sd', 'Sc', 'Ei', 'Er', 'Er', 'Sc', 'SB', 'Sc', 'Sc', 'SB', 'Ei', 'Ec', 'SB', 'Sc', 'Ec', 'Ei', 'SB', 'Ec', 'Ei', 'SB', 'Sb', 'SB', 'Er', 'SB', 'Ei', 'Ei', 'SB', 'Ec', 'Ei', 'Er', 'Sc', 'Er', 'Sc', 'SB', 'Ei', 'SB', 'Sc', 'Er', 'Er', 'Ei', 'Ei', 'Ei', 'Er', 'Sc', 'Ei', 'Sc', 'Sd', 'Er', 'Er', 'Er', 'Sc', 'Sc', 'Sb', 'Sc', 'Sc', 'Sc', 'Sc', 'Se', 'SB', 'Ec', 'SB', 'Sb', 'SB', 'SB', 'Sc', 'Er', 'SB', 'Sc', 'SB', 'Er', 'Se', 'Ec', 'Ei', 'SB', 'Sc', 'SB', 'Er', 'SB', 'Se', 'Er', 'Sc', 'Se', 'Sc', 'Sb', 'Se', 'Sb', 'Ei', 'Se', 'Sb', 'Er', 'Sc', 'Sc', 'SB', 'Sc', 'Ei', 'SB', 'Se', 'Sc', 'Sc', 'Er', 'Se', 'SB', 'Sb', 'Sb', 'SB', 'Er', 'Ei', 'Ei', 'Sc', 'Sc', 'Er', 'Ei', 'Sb', 'SB', 'Ei', 'Ei', 'Er', 'Er', 'Sb', 'Er', 'Sc', 'Sc', 'Ei', 'Ei', 'SB', 'SB', 'Sb', 'Sc', 'SB', 'Ei', 'Sb', 'Se', 'Ei', 'Er', 'Ei', 'Er', 'Se', 'Sc', 'Sc', 'Sc', 'Sc', 'Sc', 'Sb', 'SB', 'Sd', 'Ei', 'Sc', 'Sc', 'Sb', 'Se', 'SB', 'Sc', 'Sc', 'Sb', 'Sb', 'Er', 'Se', 'Sc', 'SB', 'Sc', 'Sc', 'Sc', 'Ei', 'Sb', 'Sc', 'Ei', 'Sc', 'SB', 'Er', 'SB', 'SB', 'SB', 'SB', 'Er', 'Er', 'SB', 'Er', 'Sc', 'Ei', 'Er', 'Er', 'SB', 'Sb', 'Sb', 'SB', 'Sc', 'SB', 'SB', 'Er', 'Ei', 'Sc', 'Sc', 'Sb', 'Sb', 'SB', 'Se', 'Ei', 'Er', 'Sc', 'Er', 'Sc', 'SB', 'SB', 'SB', 'Se', 'Se', 'SB', 'Se', 'SB', 'Se', 'Sc', 'Er', 'Sc', 'SB', 'Ei', 'Sc', 'Ei', 'SB', 'SB', 'Sc', 'Er', 'SB', 'Ei', 'Sc', 'SB', 'Er', 'Sb', 'Sc', 'Sc', 'Sc', 'Sb', 'Sb', 'SB', 'SB', 'Sc', 'Sc', 'SB', 'Ei', 'Ec', 'SB', 'Ei', 'Sc', 'Se', 'Sc', 'Ei', 'Sd', 'Er', 'Ec', 'SB', 'SB', 'Se', 'Ec', 'Ec', 'SB', 'Sc', 'Sc', 'Se', 'Sc', 'SB', 'Ei', 'Sb', 'SB', 'Er', 'Ei', 'Sb', 'Ei', 'Sc', 'SB', 'Er', 'Sc', 'Sc', 'Sc', 'Er', 'Er', 'Ei', 'SB', 'Ei', 'Sb', 'Sb', 'Sc', 'Sc', 'Er', 'SB', 'SB', 'Sc', 'Sb', 'Sb', 'Sb', 'Sb', 'Sb', 'Ei', 'Er', 'Ei', 'Sc', 'Ei', 'Se', 'Ei', 'Sc', 'Ei', 'Er', 'SB', 'Sb', 'Ei', 'Ei', 'Ei', 'Se', 'Ei', 'Ec', 'Ei', 'Ei', 'Sb', 'Er', 'Er', 'SB', 'Sc', 'SB', 'Sd', 'Sb', 'SB', 'Sc', 'Er', 'Sb', 'Se', 'SB', 'SB', 'Sb', 'Sc', 'SB', 'Er', 'Sb', 'Se', 'Sb', 'Er', 'SB', 'SB', 'SB', 'Er', 'Sc', 'Er', 'SB', 'Er', 'Sc', 'Ei', 'Sc', 'Se', 'Ei', 'Sb', 'Sc', 'Ei', 'SB', 'Ei', 'SB', 'Sc', 'SB', 'Se', 'Sb', 'SB', 'Se', 'Er', 'SB', 'Ec', 'Se', 'SB', 'Er', 'Sc', 'Ei', 'Ei', 'Er', 'Ei', 'Sb', 'Ec', 'Ei', 'Sc', 'Sb', 'Er', 'Sc', 'Sc', 'Sb', 'Ei', 'Er', 'Se', 'Se', 'Er', 'Er', 'Er', 'Sc', 'Sc', 'Er', 'SB', 'Sc', 'SB', 'Sc', 'Er', 'Sc', 'Er', 'SB', 'Sc', 'Er', 'Sc', 'Ei', 'Sc', 'Ei', 'Ei', 'Sb', 'SB', 'Ei', 'SB', 'Sc', 'Er', 'Sb', 'Sb', 'Sc', 'Sb', 'SB', 'Ei', 'SB', 'SB', 'Ec', 'Se', 'Sc', 'Se', 'Sc', 'Ei', 'Sc', 'Sb', 'Ei', 'Ec', 'Sc', 'Ei', 'SB', 'SB', 'Ei', 'Er', 'Se', 'SB', 'SB', 'Se', 'Ei', 'Sb', 'Ei', 'Ei', 'Er', 'Er', 'Er', 'Er', 'Ei', 'Ei', 'Er', 'Ec', 'Ei', 'Ei', 'Se', 'Sb', 'Er', 'Ei', 'Sc', 'SB', 'Se', 'SB', 'SB', 'Ei', 'Sc', 'Ei', 'Er', 'Sc', 'Ei', 'Ei', 'Er', 'Se', 'Er', 'Sb', 'Er', 'Ei', 'Er', 'SB', 'Ei', 'Er', 'Ei', 'Sc', 'Er', 'Ei', 'Ei', 'Ei', 'Ei', 'Sb', 'Sc', 'Ei', 'Sb', 'Ei', 'Sb', 'Er', 'SB', 'Ec', 'Er', 'Sb', 'Er', 'Ei', 'Sc', 'Er', 'SB', 'Sb', 'Sb', 'Sc', 'Sc', 'Ec', 'Sc', 'Sc', 'Ec', 'Sb', 'Sb', 'Er', 'Sb', 'SB', 'Ei', 'Er', 'Sd', 'Ei', 'SB', 'Se', 'Er', 'Sc', 'Sc', 'Sb', 'Sc', 'SB', 'Sc', 'SB', 'Er', 'Sc', 'Ei', 'Ei', 'Er', 'Se', 'SB', 'Ei', 'Er', 'Sc', 'Ec', 'SB', 'Ei', 'Er', 'Se', 'Er', 'Ei', 'Se', 'Er', 'Ei', 'Sb', 'Sc', 'Er', 'Er', 'SB', 'Er', 'Er', 'Er', 'Ei', 'Se', 'Sb', 'SB', 'Se', 'Sc', 'Sc', 'SB', 'Sc', 'Er', 'Ei', 'Se', 'Sd', 'Sc', 'Ec', 'SB', 'SB', 'Sc', 'Er', 'Er', 'Er', 'Er', 'Er', 'Ei', 'Se', 'Er', 'Sc', 'Sc', 'Ei', 'Ei', 'SB', 'Sc', 'Sc', 'Ei', 'Ei', 'Sc', 'SB', 'Sb', 'Sb', 'Ei', 'SB', 'Sc', 'Sc', 'Ei', 'Sc', 'Er', 'Se', 'Sc', 'Ec', 'Sc', 'Sb', 'Ei', 'Sc', 'Er', 'Ei', 'SB', 'Er', 'Sc', 'SB', 'Sc', 'Sb', 'Se', 'Er', 'Er', 'Ei', 'Sc', 'Ec', 'Sc', 'Ei', 'Se', 'Ei', 'Ei', 'Sc', 'Er', 'Sc', 'SB', 'Ec', 'Ei', 'Sc', 'Se', 'Er', 'Sb', 'Sc', 'Er', 'Se', 'SB', 'SB', 'SB', 'Er', 'Er', 'Se', 'Er', 'SB', 'Ei', 'Sc', 'Ei', 'Ec', 'SB', 'Er', 'Ei', 'Se', 'SB', 'Se', 'SB', 'Se', 'Ec', 'Sc', 'SB', 'SB', 'Sb', 'Er', 'Sb', 'SB', 'Ei', 'Er', 'Sc', 'Ei', 'Se', 'SB', 'Sa', 'SB', 'Ei', 'Se', 'SB', 'Er', 'Er', 'Ei', 'Ec', 'Sc', 'Sc', 'SB', 'Ec', 'Sc', 'Sc', 'Er', 'Er', 'Ei', 'Sc', 'Sc', 'Er', 'Er', 'Ei', 'Se', 'Ei', 'Ei', 'Ec', 'Sc', 'Er', 'Sb', 'Er', 'Se', 'Ei', 'SB', 'Sc', 'SB', 'Se', 'Sc', 'Ei', 'SB', 'SB', 'Ei', 'Er', 'Ec', 'SB', 'Ei', 'Se', 'Sc', 'Ei', 'Sc', 'SB', 'Ei', 'Sb', 'SB', 'Ei', 'Sc', 'Er', 'Ei', 'Er', 'Er', 'Ec', 'Er', 'SB', 'Ei', 'Sb', 'Er', 'Ei', 'Ei', 'Se', 'Ec', 'Sc', 'Er', 'SB', 'Se', 'Sd', 'Sc', 'SB', 'Se', 'Er', 'Er', 'Sc', 'Sc', 'Sc', 'Se', 'SB', 'Sc', 'Sb', 'Er', 'Sb', 'Er', 'SB', 'Se', 'Ei', 'Sc', 'Er', 'SB', 'Er', 'Er', 'Sc', 'SB', 'SB', 'Ec', 'Er', 'Er', 'SB', 'Se', 'Se', 'Er', 'Sc', 'Sc', 'Sc', 'Er', 'SB', 'Sd', 'SB', 'Er', 'Sb', 'Sc', 'Sb', 'SB', 'Sb', 'Sb', 'SB', 'SB', 'Sc', 'SB', 'SB', 'Er', 'Se', 'Sc', 'SB', 'Ec', 'Er', 'Ei', 'Ei', 'Ei', 'Sc', 'Er', 'Ei', 'Ei', 'SB', 'Sd', 'Sb', 'Ei', 'Ei', 'Er', 'Ei', 'Sb', 'SB', 'Sc', 'Sc', 'Sc', 'Sc', 'Sc', 'Sb', 'SB', 'Sc', 'Er', 'SB', 'SB', 'Ei', 'Sc', 'SB', 'Sc', 'Ei', 'Sc', 'Er', 'SB', 'Er', 'SB', 'Er', 'Er', 'Sc', 'Sc', 'Er', 'SB', 'Er', 'Sc', 'Ei', 'Sc', 'Sc', 'SB', 'Sc', 'Se', 'Er', 'Ei', 'Se', 'Sc', 'Sb', 'Se', 'SB', 'Ei', 'Se', 'Ei', 'Er', 'Sb', 'Er', 'Sb', 'Er', 'Ei', 'Ec', 'SB', 'Ec', 'Ei', 'Sc', 'Se', 'Ei', 'Sc', 'Sc', 'Ec', 'Sb', 'Ei', 'SB', 'Sb', 'SB', 'SB', 'Sb', 'Sc', 'Ec', 'Sc', 'Ei', 'Sb', 'Er', 'Sc', 'Er', 'Er', 'Ei', 'Ei', 'Sc', 'Sb', 'Se', 'Sc', 'Sb', 'Er', 'Er', 'Ei', 'SB', 'Sc', 'Sc', 'Er', 'Ei', 'SB', 'SB', 'SB', 'Er', 'Ei', 'Ec', 'Ei', 'SB', 'Sc', 'Er', 'SB', 'Er', 'Ei', 'Sb', 'Sc', 'Sc', 'Ei', 'SB', 'SB', 'Sc', 'Se', 'Ei', 'Sc', 'Ei', 'Er', 'Er', 'Sb', 'SB', 'Ei', 'Se', 'Sb', 'Sc', 'Sb', 'Ei', 'Ei', 'Se', 'Ec', 'Ei', 'SB', 'SB', 'Sd', 'Sc', 'Ei', 'Er', 'Ei', 'Ei', 'Ei', 'Ei', 'Sc', 'SB', 'Er', 'Sc', 'Sb', 'Se', 'SB', 'Sc', 'Sc', 'Se', 'Sb', 'SB', 'SB', 'Se', 'Sc', 'Ec', 'Er', 'SB', 'Sb', 'SB', 'Sb', 'Sb', 'Sc', 'Er', 'Er', 'Sc', 'SB', 'Sb', 'Se', 'Se', 'Ei', 'SB', 'Sc', 'Sb', 'Er', 'Sc', 'Sc', 'SB', 'SB', 'Sc', 'Sb', 'SB', 'Ei', 'Sc', 'Sc', 'Sc', 'Se', 'Er', 'Ei', 'Er', 'Sc', 'Sb', 'Ec', 'Sc', 'Sc', 'Sc', 'Sb', 'SB', 'SB', 'Sb', 'SB', 'Se', 'SB', 'Ei', 'Er', 'SB', 'Ei', 'Sc', 'Er', 'SB', 'Er', 'Se', 'Ei', 'Sb', 'Ei', 'Sb', 'SB', 'Sb', 'Er', 'SB', 'Er', 'SB', 'Ei', 'Sc', 'Ei', 'Sb', 'Sc', 'Sb', 'SB', 'SB', 'SB', 'SB', 'SB', 'Ei', 'Se', 'Ei', 'Ec', 'Se', 'Ei', 'Ei', 'Er', 'Ei', 'Sb', 'Sb', 'Sc', 'Er', 'Sb', 'Sb', 'Se', 'Ei', 'SB', 'Ei', 'Sb', 'SB', 'SB', 'Sc', 'Sd', 'Er', 'Ei', 'Er', 'Ei', 'Ei', 'Sb', 'SB', 'Sc', 'Sc', 'Er', 'Se', 'Sb', 'SB', 'SB', 'Ei', 'Er', 'Se', 'Ei', 'Ei', 'Ec', 'Er', 'Ei', 'SB', 'SB', 'Ei', 'Sb', 'Sa', 'Ec', 'Ei', 'Sc', 'Sb', 'SB', 'Sc', 'Sb', 'Sc', 'Sc', 'SB', 'Ei', 'Sb', 'Se', 'Ei', 'Er', 'Er', 'Sc', 'Er', 'SB', 'Sc', 'Se', 'SB', 'SB', 'Ei', 'Er', 'Er', 'SB', 'SB', 'SB', 'SB', 'Ei', 'SB', 'Er', 'Se', 'SB', 'SB', 'Ei', 'SB', 'Sb', 'Sb', 'SB', 'Er', 'Sc', 'Sc', 'Ei', 'Sc', 'Sc', 'Sb', 'SB', 'Sc', 'Sb', 'Sb', 'Sb', 'Er', 'Se', 'Sb', 'SB', 'Se', 'Sd', 'Er', 'Ei', 'Er', 'Sb', 'SB', 'Sc', 'Er', 'Er', 'SB', 'Sc', 'Sc', 'Er', 'SB', 'Sc', 'Ei', 'SB', 'Er', 'Ei', 'Ei', 'Sb', 'Sc', 'Sb', 'SB', 'SB', 'SB', 'Ei', 'Se', 'Se', 'SB', 'Ei', 'Er', 'SB', 'Ei', 'Ei', 'Er', 'Ei', 'Sb', 'SB', 'Er', 'Sb', 'Er', 'Er', 'Sb', 'Se', 'SB', 'Sc', 'Er', 'Er', 'SB', 'SB', 'Ei', 'Ei', 'Ei', 'Er', 'Ei', 'Sc', 'Ei', 'SB', 'Er', 'Se', 'Ec', 'Sc', 'Ei', 'Se', 'Ei', 'Ec', 'Ei', 'Se', 'Sd', 'Se', 'Ei', 'Sc', 'Er', 'Sc', 'Er', 'Se', 'Ec', 'SB', 'Er', 'SB', 'Sc', 'Ei', 'Er', 'Ei', 'Sc', 'Er', 'SB', 'Ei', 'Sc', 'Sb', 'Sb', 'Er', 'Sb', 'Sc', 'SB', 'Er', 'Sc', 'Er', 'Sc', 'Er', 'SB', 'SB', 'SB', 'Sb', 'Sc', 'SB', 'Ei', 'Sb', 'Er', 'Er', 'Sc', 'Sd', 'Er', 'Sb', 'Ei', 'SB', 'Sb', 'Se', 'Ei', 'Ei', 'Sc', 'Ei', 'Se', 'Sc', 'SB', 'Sb', 'Ei', 'SB', 'SB', 'Ei', 'Er', 'Sc', 'Ei', 'SB', 'Sb', 'Ei', 'SB', 'Sb', 'Ei', 'Er', 'Er', 'SB', 'Sb', 'Ec', 'Se', 'Ec', 'Er', 'Er', 'Ei', 'Se', 'Se', 'Ei', 'SB', 'Sc', 'Er', 'Er', 'Er', 'Se', 'Sb', 'Er', 'SB', 'Ei', 'Ei', 'Ei', 'SB', 'Ei', 'SB', 'SB', 'Sc', 'Sc', 'Sb', 'Ei', 'Se', 'SB', 'Sc', 'Sc', 'Sc', 'Sb', 'Sc', 'Sb', 'Se', 'Sb', 'Sc', 'Sb', 'Er', 'Ei', 'Sc', 'SB', 'Sc', 'Ei', 'Sc', 'Sb', 'Er', 'Ei', 'Ei', 'Er', 'Sb', 'SB', 'Er', 'SB', 'SB', 'Sb', 'Se', 'Se', 'SB', 'SB', 'Sc', 'Se', 'Sb', 'Ei', 'Se', 'SB', 'Ei', 'Sc', 'SB', 'Sb', 'SB', 'Ei', 'Ei', 'Sb', 'Er', 'Sc', 'Sb', 'SB', 'Sc', 'Ei', 'Ei', 'SB', 'Sc', 'Ec', 'Sb', 'Ei', 'Er', 'Er', 'Ei', 'SB', 'Er', 'Ei', 'Sb', 'Sc', 'Sc', 'Ei', 'Ei', 'Sc', 'Se', 'Sb', 'Sc', 'Ei', 'SB', 'Sc', 'Ec', 'Ei', 'Sb', 'Se', 'Ei', 'SB', 'Er', 'SB', 'Sb', 'SB', 'Sc', 'Ei', 'SB', 'Sc', 'SB', 'Ei', 'Sc', 'Er', 'Sb', 'Sc', 'Sc', 'Ei', 'SB', 'Ei', 'SB', 'Ei', 'Er', 'Er', 'Er', 'SB', 'Er', 'Sb', 'Sb', 'Ei', 'Er', 'Sc', 'Ei', 'SB', 'Sa', 'Er', 'SB', 'Sc', 'Sb', 'Ei', 'SB', 'SB', 'SB', 'Sc', 'Sc', 'SB', 'Sc', 'Er', 'Sb', 'Sb', 'Se', 'Sd', 'Sc', 'SB', 'Se', 'Sc', 'Sc', 'Sb', 'SB', 'Sb', 'Sc', 'SB', 'SB', 'Sc', 'SB', 'Se', 'Sb', 'Sc', 'SB', 'Er', 'SB', 'Ei', 'Sc', 'SB', 'Sb', 'SB', 'Sb', 'Se', 'Sc', 'Se', 'Ei', 'Ei', 'Se', 'SB', 'Ei', 'Ei', 'Sc', 'Sc', 'SB', 'Se', 'Ei', 'Er', 'Er', 'Sc', 'Sb', 'SB', 'Ei', 'Ei', 'Se', 'Se', 'SB', 'Er', 'Er', 'SB', 'Ec', 'Sc', 'Sb', 'SB', 'Ei', 'Sc', 'Ec', 'SB', 'Ei', 'Sb', 'SB', 'Er', 'Se', 'Sc', 'Sc', 'Sc', 'Sc', 'Er', 'Se', 'SB', 'SB', 'Sb', 'Ei', 'Se', 'SB', 'Ei', 'Er', 'Er', 'SB', 'Sb', 'Er', 'Sb', 'Er', 'Sc', 'SB', 'Ei', 'Sc', 'SB', 'Sc', 'SB', 'Ei', 'A', 'Ei', 'Sc', 'SB', 'Er', 'SB', 'Sb', 'SB', 'Sb', 'SB', 'Ei', 'Ei', 'Er', 'SB', 'Sc', 'Er', 'Er', 'Sb', 'Se', 'Er', 'Sc', 'Ei', 'Sb', 'Se', 'SB', 'Sc', 'Se', 'Se', 'SB', 'Sc', 'Ei', 'Se', 'Sc', 'Sc', 'SB', 'Sc', 'Se', 'Sc', 'Sb', 'Sb', 'Sc', 'Ec', 'Er', 'Ei', 'Sc', 'Ei', 'Sc', 'SB', 'Er', 'Er', 'Sb', 'Se', 'Sb', 'SB', 'SB', 'Er', 'SB', 'SB', 'Ei', 'Sc', 'Ei', 'SB', 'Er', 'Sb', 'Sb', 'Ei', 'Ec', 'Se', 'Ei', 'Sc', 'Sb', 'Er', 'SB', 'Sc', 'Sc', 'Er', 'Sc', 'Sb', 'Sc', 'SB', 'Sc', 'Sb', 'Sc', 'Sc', 'Er', 'SB', 'SB', 'Sc', 'Ei', 'Ei', 'Se', 'SB', 'Sc', 'SB', 'Sc', 'Sc', 'Ei', 'Sc', 'Sb', 'SB', 'Se', 'Se', 'Sb', 'Se', 'Sc', 'Ei', 'SB', 'Er', 'SB', 'SB', 'Sb', 'Ei', 'Er', 'SB', 'SB', 'Sc', 'Sb', 'SB', 'Sc', 'Ei', 'SB', 'Sc', 'Er', 'Se', 'Ei', 'Se', 'Er', 'Er', 'Ei', 'Sc', 'SB', 'Se', 'SB', 'Sc', 'Sc', 'Sb', 'Er', 'Ei', 'Er', 'Sc', 'Ei', 'Er', 'Sb', 'Ei', 'Sc', 'Er', 'Sb', 'Sc', 'Sb', 'Sb', 'Er', 'SB', 'Sb', 'Sb', 'Sc', 'Sb', 'Sc', 'Ec', 'SB', 'Ei', 'Sc', 'Ei', 'SB', 'Ei', 'SB', 'Er', 'Er', 'Se', 'SB', 'Sc', 'Sc', 'SB', 'Sb', 'Er', 'Se', 'SB', 'Er', 'Sc', 'SB', 'SB', 'Sb', 'Sc', 'SB', 'Se', 'Sb', 'Er', 'Er', 'SB', 'SB', 'Ec', 'Sc', 'Ei', 'Sc', 'Ei', 'Ei', 'Se', 'Se', 'Se', 'Sb', 'Ei', 'Sc', 'Sc', 'Sd', 'Sc', 'Er', 'Sb', 'Ei', 'Ei', 'SB', 'Er', 'Er', 'Ec', 'Sd', 'Er', 'Sc', 'Sb', 'SB', 'Ei', 'Er', 'Sb', 'Sb', 'SB', 'SB', 'Ei', 'Se', 'Ei', 'Ei', 'Ei', 'SB', 'Sc', 'Er', 'Ei', 'Ei', 'Sb', 'Se', 'Ei', 'Sb', 'Sb', 'Ei', 'Sc', 'Ei', 'Er', 'Sc', 'Sc', 'Ec', 'Ei', 'Sc', 'SB', 'Ec', 'Se', 'Sb', 'Er', 'SB', 'Sb', 'Sb', 'Ei', 'Sc', 'Er', 'Sc', 'Sb', 'Ei', 'Se', 'Er', 'Sc', 'Er', 'Er', 'Ei', 'Er', 'Sb', 'Sc', 'Sc', 'Er', 'Er', 'Sd', 'Er', 'Ei', 'SB', 'Ec', 'Ec', 'Se', 'Se', 'Sc', 'Sc', 'Sc', 'Sc', 'Ei', 'SB', 'Sc', 'Sc', 'Sc', 'Se', 'Se', 'SB', 'Sc', 'SB', 'Se', 'Sb', 'Se', 'Sc', 'Ec', 'Sc', 'SB', 'Sc', 'Sc', 'Se', 'Sc', 'Ec', 'SB', 'Er', 'Ei', 'Sc', 'SB', 'Er', 'Ei', 'SB', 'Ei', 'SB', 'Er', 'Ei', 'Sc', 'Er', 'Ec', 'Sc', 'Er', 'SB', 'SB', 'Sc', 'Er', 'Sc', 'Se', 'Sc', 'Er', 'SB', 'Sb', 'Er', 'Er', 'SB', 'Ei', 'Se', 'Er', 'Sb', 'Ec', 'Sc', 'Ei', 'Sb', 'Se', 'SB', 'Er', 'Ei', 'Sb', 'SB', 'Sc', 'Sc', 'Sc', 'Er', 'Se', 'Er', 'Sb', 'Ec', 'SB', 'SB', 'Sb', 'Er', 'Se', 'SB', 'Ei', 'Sc', 'Se', 'Er', 'Sc', 'Se', 'SB', 'Se', 'Ei', 'Sc', 'Er', 'Ei', 'Sc', 'Ei', 'Ei', 'Sb', 'Ei', 'Sc', 'Er', 'Sb', 'Sc', 'SB', 'Sb', 'Ec', 'Sc', 'Er', 'Sb', 'SB', 'Er', 'Er', 'Sb', 'Er', 'Se', 'Er', 'Sb', 'Er', 'Se', 'Ei', 'Er', 'Sb', 'Se', 'Er', 'Er', 'Er', 'Sc', 'Sc', 'Ei', 'Ei', 'Sb', 'Er', 'Ec', 'Ei', 'Sc', 'Ei', 'Ei', 'Sb', 'SB', 'SB', 'Se', 'SB', 'Sc', 'Er', 'Sc', 'Sd', 'Sb', 'Er', 'Sb', 'SB', 'Ei', 'Er', 'SB', 'Er', 'Er', 'Sd', 'Sb', 'Er', 'Ei', 'Se', 'Sb', 'SB', 'SB', 'Ei', 'Er', 'Ei', 'Sb', 'Se', 'Sc', 'Sd', 'Ei', 'Se', 'Ei', 'SB', 'Ei', 'SB', 'Er', 'Er', 'Sb', 'Sb', 'Er', 'Sb', 'Er', 'Sb', 'SB', 'Sc', 'Ei', 'Er', 'Sc', 'Ec', 'Se', 'SB', 'Er', 'Ei', 'Sc', 'Ei', 'Ei', 'Ei', 'Ei', 'Ec', 'Sb', 'Ei', 'Sc', 'SB', 'Sc', 'SB', 'SB', 'SB', 'Ei', 'SB', 'Sb', 'SB', 'Er', 'Ei', 'Ei', 'Sb', 'SB', 'Ei', 'Ei', 'Er', 'Ei', 'Sc', 'Sc', 'Se', 'Er', 'Se', 'Ei', 'Ei', 'Sc', 'Er', 'Sc', 'Ei', 'Er', 'Sc', 'Ei', 'Sb', 'Er', 'Sc', 'SB', 'Se', 'Er', 'Sc', 'Ei', 'Ei', 'Ei', 'Ec', 'Er', 'Sc', 'Ei', 'SB', 'Ei', 'SB', 'Se', 'Se', 'SB', 'Se', 'Sb', 'Sc', 'Ei', 'Sc', 'Ei', 'Se', 'Ei', 'Sd', 'Sb', 'Sb', 'SB', 'Ei', 'SB', 'Sc', 'Ei', 'Ei', 'Er', 'Sb', 'SB', 'Ei', 'Ei', 'Sc', 'Ei', 'Ei', 'Ei', 'Ei', 'Ei', 'Se', 'Er', 'Er', 'Ei', 'Sc', 'SB', 'SB', 'SB', 'SB', 'Sc', 'Sb', 'Er', 'Sc', 'Er', 'Se', 'Er', 'Er', 'Ei', 'Ei', 'Se', 'Sb', 'SB', 'Sb', 'Er', 'SB', 'SB', 'SB', 'SB', 'SB', 'Er', 'SB', 'Ei', 'Sb', 'Ei', 'Ei', 'Ei', 'Er', 'Sb', 'Er', 'Sb', 'Er', 'Sc', 'Se', 'Se', 'Se', 'Sc', 'Sb', 'SB', 'Sc', 'Ei', 'Sb', 'Se', 'Sc', 'Sc', 'Er', 'Ei', 'SB', 'SB', 'Sb', 'Sc', 'Ei', 'SB', 'Er', 'Se', 'Er', 'SB', 'SB', 'SB', 'Ei', 'Sb', 'Ei', 'Ei', 'Ei', 'SB', 'Sb', 'Er', 'Er', 'Ei', 'Sc', 'Ei', 'Er', 'Sc', 'SB', 'Sc', 'Ei', 'Se', 'Ei', 'Ei', 'SB', 'Ec', 'SB', 'SB', 'Sc', 'Ec', 'SB', 'Ei', 'Sc', 'Ei', 'Sb', 'Se', 'Ei', 'Er', 'Ei', 'Ec', 'Ei', 'Ei', 'Sc', 'Sc', 'Sc', 'Sc', 'Sc', 'Sb', 'SB', 'Ec', 'Sb', 'Er', 'Se', 'Sc', 'Se', 'SB', 'Er', 'Er', 'Er', 'SB', 'Ei', 'SB', 'Sc', 'SB', 'Sc', 'Ei', 'Sc', 'Sb', 'Sc', 'Ei', 'Ei', 'Er', 'Se', 'SB', 'Ei', 'Se', 'Sb', 'Sc', 'Er', 'Er', 'Sc', 'Ei', 'Se', 'Ei', 'SB', 'SB', 'Sc', 'Sc', 'Er', 'SB', 'Ei', 'Ei', 'SB', 'Ei', 'SB', 'Ei', 'Sc', 'Er', 'Sc', 'Er', 'Ei', 'Er', 'Ei', 'Ei', 'Er', 'Er', 'Ei', 'Ei', 'Sc', 'SB', 'Er', 'Ei', 'Sb', 'SB', 'Ei', 'SB', 'Sc', 'SB', 'Sb', 'Ei', 'Ei', 'Se', 'SB', 'Ei', 'Er', 'Sb', 'Ec', 'Sb', 'SB', 'Ei', 'Sb', 'Sc', 'Er', 'Se', 'Sb', 'Sc', 'Sc', 'Sb', 'Sb', 'Er', 'Sb', 'Sc', 'SB', 'Er', 'SB', 'Sc', 'SB', 'SB', 'Se', 'Sb', 'Sc', 'Se', 'SB', 'SB', 'Se', 'SB', 'Sc', 'Sb', 'Se', 'Er', 'Er', 'Ei', 'Sb', 'Sc', 'Sb', 'Sb', 'Er', 'Sb', 'Se', 'Sb', 'SB', 'Er', 'Ei', 'Sb', 'SB', 'SB', 'Ec', 'SB', 'Er', 'Sb', 'Ei', 'Sb', 'Ei', 'Sb', 'SB', 'SB', 'Er', 'SB', 'Sc', 'Ei', 'Se', 'SB', 'Ei', 'Er', 'SB', 'Sc', 'SB', 'Ei', 'SB', 'Se', 'SB', 'SB', 'Sb', 'Sc', 'Se', 'Ei', 'Ec', 'Er', 'Er', 'Se', 'Ei', 'Er', 'Ei', 'Er', 'SB', 'SB', 'SB', 'Er', 'Sc', 'Ei', 'Sc', 'Sc', 'Er', 'Er', 'Sc', 'Sd', 'SB', 'Sb', 'SB', 'SB', 'Ei', 'Sb', 'Se', 'SB', 'Er', 'Sb', 'Sc', 'Se', 'Sc', 'SB', 'Er', 'Sb', 'Ei', 'Sc', 'SB', 'Sb', 'Er', 'Ei', 'Sc', 'SB', 'SB', 'Er', 'Sc', 'SB', 'Ec', 'Ec', 'Ei', 'Ei', 'SB', 'Er', 'Sb', 'Er', 'Sc', 'Ei', 'SB', 'Ei', 'Ec', 'SB', 'Er', 'SB', 'SB', 'SB', 'Sc', 'Er', 'Sc', 'Ei', 'SB', 'Sb', 'Sb', 'SB', 'Er', 'Ei', 'Se', 'Sc', 'SB', 'SB', 'Sc', 'SB', 'Sb', 'Sa', 'Sc', 'Er', 'Sc', 'Ei', 'SB', 'Sc', 'Sc', 'Ei', 'SB', 'SB', 'Sc', 'SB', 'SB', 'SB', 'Ei', 'Er', 'Er', 'SB', 'Sb', 'Sc', 'Sb', 'Ei', 'Ei', 'Er', 'Se', 'Er', 'SB', 'Er', 'Sb', 'SB', 'Se', 'Er', 'Er', 'Sc', 'SB', 'Sb', 'Sc', 'Er', 'Sc', 'Sb', 'SB', 'Se', 'SB', 'SB', 'Ei', 'Se', 'SB', 'Sb', 'SB', 'Ei', 'SB', 'Ei', 'SB', 'SB', 'Ec', 'Sc', 'Sb', 'Se', 'Ei', 'Sb', 'Sc', 'Sc', 'Se', 'Sb', 'Er', 'Ec', 'SB', 'Sc', 'Se', 'SB', 'Se', 'Er', 'Sb', 'Sb', 'Ec', 'Er', 'Er', 'Er', 'Se', 'Ei', 'Ei', 'Sc', 'Ec', 'SB', 'Se', 'Sc', 'Er', 'SB', 'Er', 'SB', 'Ei', 'Ei', 'Er', 'Er', 'Sc', 'Sc', 'Sb', 'Sc', 'Er', 'Er', 'Se', 'Ei', 'SB', 'Sc', 'SB', 'Ei', 'Ec', 'Sc', 'SB', 'Se', 'Ei', 'Sb', 'Er', 'SB', 'Sc', 'Ei', 'Ei', 'Sc', 'Sb', 'Er', 'Ei', 'SB', 'Ei', 'SB', 'Sb', 'SB', 'Sc', 'SB', 'SB', 'Ei', 'Sd', 'SB', 'Ei', 'Sc', 'Ei', 'Sc', 'Sb', 'Sb', 'Ei', 'Se', 'SB', 'Se', 'Er', 'Sb', 'Ei', 'Se', 'Sc', 'Sb', 'Se', 'Er', 'Ei', 'Sc', 'SB', 'Sb', 'Ei', 'Ec', 'Er', 'Sc', 'SB', 'Sc', 'SB', 'Ei', 'SB', 'SB', 'Er', 'Se', 'Sc', 'Er', 'SB', 'Sb', 'Sc', 'Ei', 'Ei', 'Ei', 'SB', 'Sc', 'SB', 'Sb', 'Er', 'Sb', 'Er', 'Sa', 'Se', 'SB', 'Ei', 'Sc', 'Ei', 'SB', 'Sb', 'Sb', 'Sc', 'Ei', 'Ei', 'Sb', 'Sc', 'Ei', 'Sb', 'Sb', 'Sc', 'Se', 'Sb', 'SB', 'SB', 'Er', 'Er', 'SB', 'Sb', 'Sb', 'Er', 'SB', 'SB', 'Ei', 'Se', 'Sb', 'Sb', 'Sc', 'SB', 'Ei', 'Sc', 'SB', 'Ei', 'SB', 'Ei', 'Er', 'Sb', 'Ei', 'Ec', 'Sb', 'Er', 'Sb', 'Er', 'Er', 'Ei', 'Sc', 'Er', 'SB', 'Se', 'Ei', 'SB', 'Ei', 'SB', 'SB', 'SB', 'Sb', 'Sc', 'Er']\n"
     ]
    }
   ],
   "source": [
    "spec_list = []\n",
    "class_df = final_df[\"gz2_class\"]\n",
    "for n in class_df:\n",
    "    spec_list.append(n)\n",
    "spec_list = [s[:2] for s in spec_list]\n",
    "#batch because laptop doesn't have enough memory\n",
    "spec_list = spec_list[:4805]\n",
    "print(spec_list)\n",
    "\n",
    "label_encoder = LabelEncoder()\n",
    "specs = label_encoder.fit_transform(spec_list)\n",
    "\n"
   ]
  },
  {
   "cell_type": "code",
   "execution_count": 10,
   "metadata": {},
   "outputs": [
    {
     "name": "stdout",
     "output_type": "stream",
     "text": [
      "['Sb', 'Sc', 'SB', 'Ei', 'Er', 'Se', 'Ec', 'Sd', 'A', 'Sa']\n"
     ]
    }
   ],
   "source": [
    "n = []\n",
    "for letters in spec_list:\n",
    "    if letters not in n:\n",
    "        n.append(letters)\n",
    "    else:\n",
    "        continue\n",
    "print(n)"
   ]
  },
  {
   "cell_type": "code",
   "execution_count": 11,
   "metadata": {},
   "outputs": [
    {
     "name": "stdout",
     "output_type": "stream",
     "text": [
      "(4805, 424, 424, 3)\n"
     ]
    }
   ],
   "source": [
    "x = []\n",
    "#np.empty((424, 424, 3))\n",
    "n = 0\n",
    "while n < 4805: \n",
    "    for filename in os.listdir(\"galaxyZoo/images/\"):\n",
    "        image = Image.open(f\"galaxyZoo/images/{filename}\")\n",
    "        img_array = np.array(image) \n",
    "        x.append(img_array)\n",
    "        n +=1\n",
    "        if n >= 4805:\n",
    "            break\n",
    "x = np.array(x)\n",
    "print(x.shape)\n",
    "#img_df = DataFrame({\"Image\": x})"
   ]
  },
  {
   "cell_type": "code",
   "execution_count": 12,
   "metadata": {},
   "outputs": [],
   "source": [
    "# y = np.array(final_df[\"gz2_class\"])\n",
    "# print(img_dataset.dtype)\n",
    "# images_train, images_test, labels_train, labels_test = train_test_split(img_dataset, y, test_size=0.2, random_state=42)"
   ]
  },
  {
   "cell_type": "code",
   "execution_count": 13,
   "metadata": {},
   "outputs": [
    {
     "name": "stdout",
     "output_type": "stream",
     "text": [
      "(3844, 424, 424, 3)\n"
     ]
    }
   ],
   "source": [
    "specs = to_categorical(specs)\n",
    "x_train, x_test, y_train, y_test = train_test_split(x, specs, test_size=0.2, random_state=42)\n",
    "print(x_train.shape)\n",
    "# np.array(x_train)\n",
    "# np.array(x_test)\n",
    "# np.array(y_train)\n",
    "# np.array(y_test)\n"
   ]
  },
  {
   "cell_type": "code",
   "execution_count": 14,
   "metadata": {},
   "outputs": [],
   "source": [
    "# model = Sequential([\n",
    "#   Rescaling(1./255),\n",
    "#   Conv2D(32, 3, activation='relu'),\n",
    "#   MaxPooling2D(),\n",
    "#   Conv2D(32, 3, activation='relu'),\n",
    "#   MaxPooling2D(),\n",
    "#   Conv2D(32, 3, activation='relu'),\n",
    "#   MaxPooling2D(),\n",
    "#   Flatten(),\n",
    "#   Dense(128, activation='relu'),\n",
    "#   Dense(1)\n",
    "# ])"
   ]
  },
  {
   "cell_type": "code",
   "execution_count": 15,
   "metadata": {},
   "outputs": [],
   "source": [
    "model = Sequential([\n",
    "    Rescaling(1./255),\n",
    "    Flatten(input_shape=(424, 424, 3)),\n",
    "    Dense(128, activation='relu'),\n",
    "    Dense(64, activation='relu'),\n",
    "    Dense(10, activation='relu')\n",
    "])"
   ]
  },
  {
   "cell_type": "code",
   "execution_count": 16,
   "metadata": {},
   "outputs": [
    {
     "name": "stdout",
     "output_type": "stream",
     "text": [
      "Epoch 1/15\n"
     ]
    },
    {
     "name": "stderr",
     "output_type": "stream",
     "text": [
      "2024-03-17 22:43:59.017319: W external/local_tsl/tsl/framework/cpu_allocator_impl.cc:83] Allocation of 2073176832 exceeds 10% of free system memory.\n"
     ]
    },
    {
     "name": "stdout",
     "output_type": "stream",
     "text": [
      "39/39 [==============================] - 18s 441ms/step - loss: 7.4913 - accuracy: 0.1904 - val_loss: 7.0452 - val_accuracy: 0.1727\n",
      "Epoch 2/15\n",
      "39/39 [==============================] - 17s 435ms/step - loss: 7.3413 - accuracy: 0.1842 - val_loss: 7.0463 - val_accuracy: 0.1988\n",
      "Epoch 3/15\n",
      "39/39 [==============================] - 17s 438ms/step - loss: 7.3402 - accuracy: 0.1990 - val_loss: 7.0447 - val_accuracy: 0.1967\n",
      "Epoch 4/15\n",
      "39/39 [==============================] - 17s 433ms/step - loss: 7.3367 - accuracy: 0.1977 - val_loss: 7.0431 - val_accuracy: 0.1863\n",
      "Epoch 5/15\n",
      "39/39 [==============================] - 17s 433ms/step - loss: 7.3335 - accuracy: 0.2071 - val_loss: 7.0476 - val_accuracy: 0.1956\n",
      "Epoch 6/15\n",
      "39/39 [==============================] - 17s 435ms/step - loss: 7.3264 - accuracy: 0.2357 - val_loss: 7.0628 - val_accuracy: 0.1842\n",
      "Epoch 7/15\n",
      "39/39 [==============================] - 17s 438ms/step - loss: 7.4374 - accuracy: 0.2326 - val_loss: 7.5173 - val_accuracy: 0.1904\n",
      "Epoch 8/15\n",
      "39/39 [==============================] - 17s 434ms/step - loss: 7.7721 - accuracy: 0.2380 - val_loss: 7.5488 - val_accuracy: 0.1988\n",
      "Epoch 9/15\n",
      "39/39 [==============================] - 17s 434ms/step - loss: 7.7608 - accuracy: 0.2370 - val_loss: 7.5162 - val_accuracy: 0.1935\n",
      "Epoch 10/15\n",
      "39/39 [==============================] - 17s 434ms/step - loss: 7.5214 - accuracy: 0.2568 - val_loss: 7.2477 - val_accuracy: 0.0364\n",
      "Epoch 11/15\n",
      "39/39 [==============================] - 17s 433ms/step - loss: 7.3321 - accuracy: 0.2302 - val_loss: 7.0599 - val_accuracy: 0.1821\n",
      "Epoch 12/15\n",
      "39/39 [==============================] - 17s 432ms/step - loss: 7.2796 - accuracy: 0.3091 - val_loss: 7.0746 - val_accuracy: 0.1904\n",
      "Epoch 13/15\n",
      "39/39 [==============================] - 17s 433ms/step - loss: 7.2652 - accuracy: 0.2895 - val_loss: 7.4469 - val_accuracy: 0.0375\n",
      "Epoch 14/15\n",
      "39/39 [==============================] - 17s 431ms/step - loss: 7.4533 - accuracy: 0.0931 - val_loss: 7.0909 - val_accuracy: 0.1644\n",
      "Epoch 15/15\n",
      "39/39 [==============================] - 17s 433ms/step - loss: 7.3317 - accuracy: 0.2279 - val_loss: 7.0461 - val_accuracy: 0.1977\n"
     ]
    },
    {
     "data": {
      "text/plain": [
       "<keras.src.callbacks.History at 0x7f68384a30a0>"
      ]
     },
     "execution_count": 16,
     "metadata": {},
     "output_type": "execute_result"
    }
   ],
   "source": [
    "# t_dataset = tf.data.Dataset.from_tensor_slices((X_train, y_train))\n",
    "\n",
    "model.compile(\n",
    "    loss='categorical_crossentropy',\n",
    "    optimizer='Adam',\n",
    "    metrics=['accuracy']\n",
    ")\n",
    "model.fit(\n",
    "    x_train,\n",
    "    y_train,\n",
    "    epochs = 15, \n",
    "    validation_data = (x_test, y_test),\n",
    "    batch_size= 100,\n",
    ")\n"
   ]
  },
  {
   "cell_type": "code",
   "execution_count": 19,
   "metadata": {},
   "outputs": [
    {
     "name": "stdout",
     "output_type": "stream",
     "text": [
      "1/1 [==============================] - 0s 54ms/step\n",
      "[[  0.       96.32027   0.      385.3395  396.27444   0.        0.\n",
      "  441.47107   0.        0.     ]]\n"
     ]
    }
   ],
   "source": [
    "img = Image.open(\"galaxyZoo/images/115405.jpg\")\n",
    "img = np.array(img)\n",
    "img = np.reshape(img, (1, 424, 424, 3))\n",
    "predict = model.predict(img)\n",
    "print(predict)"
   ]
  }
 ],
 "metadata": {
  "kernelspec": {
   "display_name": "Python 3",
   "language": "python",
   "name": "python3"
  },
  "language_info": {
   "codemirror_mode": {
    "name": "ipython",
    "version": 3
   },
   "file_extension": ".py",
   "mimetype": "text/x-python",
   "name": "python",
   "nbconvert_exporter": "python",
   "pygments_lexer": "ipython3",
   "version": "3.10.13"
  }
 },
 "nbformat": 4,
 "nbformat_minor": 2
}
