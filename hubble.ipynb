{
 "cells": [
  {
   "cell_type": "code",
   "execution_count": 1,
   "metadata": {},
   "outputs": [],
   "source": [
    "#dumb installs\n",
    "%load_ext autoreload\n",
    "%autoreload 2\n",
    "\n",
    "import os\n",
    "import numpy as np"
   ]
  },
  {
   "cell_type": "code",
   "execution_count": 2,
   "metadata": {},
   "outputs": [
    {
     "name": "stderr",
     "output_type": "stream",
     "text": [
      "2024-03-17 22:43:44.368711: I external/local_tsl/tsl/cuda/cudart_stub.cc:31] Could not find cuda drivers on your machine, GPU will not be used.\n",
      "2024-03-17 22:43:44.402455: E external/local_xla/xla/stream_executor/cuda/cuda_dnn.cc:9261] Unable to register cuDNN factory: Attempting to register factory for plugin cuDNN when one has already been registered\n",
      "2024-03-17 22:43:44.402498: E external/local_xla/xla/stream_executor/cuda/cuda_fft.cc:607] Unable to register cuFFT factory: Attempting to register factory for plugin cuFFT when one has already been registered\n",
      "2024-03-17 22:43:44.403625: E external/local_xla/xla/stream_executor/cuda/cuda_blas.cc:1515] Unable to register cuBLAS factory: Attempting to register factory for plugin cuBLAS when one has already been registered\n",
      "2024-03-17 22:43:44.409373: I external/local_tsl/tsl/cuda/cudart_stub.cc:31] Could not find cuda drivers on your machine, GPU will not be used.\n",
      "2024-03-17 22:43:44.409967: I tensorflow/core/platform/cpu_feature_guard.cc:182] This TensorFlow binary is optimized to use available CPU instructions in performance-critical operations.\n",
      "To enable the following instructions: AVX2 FMA, in other operations, rebuild TensorFlow with the appropriate compiler flags.\n"
     ]
    },
    {
     "name": "stderr",
     "output_type": "stream",
     "text": [
      "2024-03-17 22:43:45.361329: W tensorflow/compiler/tf2tensorrt/utils/py_utils.cc:38] TF-TRT Warning: Could not find TensorRT\n"
     ]
    }
   ],
   "source": [
    "from keras.models import Sequential\n",
    "from keras.layers import Flatten, Dense, Dropout, Rescaling\n",
    "from keras.layers import MaxPooling2D\n",
    "from keras.layers import Conv2D, MaxPooling2D\n",
    "from sklearn.model_selection import train_test_split\n",
    "from sklearn.preprocessing import LabelEncoder\n",
    "from keras.utils import to_categorical\n",
    "from pandas import read_csv, merge\n",
    "from PIL import Image\n",
    "import matplotlib.pylab as plt\n",
    "%matplotlib inline"
   ]
  },
  {
   "cell_type": "code",
   "execution_count": 3,
   "metadata": {},
   "outputs": [],
   "source": [
    "model = Sequential()\n",
    "\n",
    "model.add(Conv2D(32, kernel_size=(3,3),activation='relu',\n",
    "input_shape=(69,69,3)))\n",
    "model.add(Conv2D(64, (3, 3), activation='relu'))\n",
    "model.add(MaxPooling2D(pool_size=(2, 2)))\n",
    "model.add(Dropout(0.25))\n",
    "model.add(Flatten())\n",
    "model.add(Dense(128, activation='relu'))\n",
    "model.add(Dropout(0.5))\n",
    "model.add(Dense(10, activation='softmax'))"
   ]
  },
  {
   "cell_type": "code",
   "execution_count": 4,
   "metadata": {},
   "outputs": [],
   "source": [
    "data_path = \"galaxyZoo/\"\n",
    "labels_file = 'gz2_hart16.csv' \n",
    "\n",
    "labels_df = read_csv(os.path.join(data_path, labels_file))\n",
    "img_id_df = read_csv(os.path.join(data_path, \"gz2_filename_mapping.csv\"))"
   ]
  },
  {
   "cell_type": "code",
   "execution_count": 5,
   "metadata": {},
   "outputs": [
    {
     "name": "stdout",
     "output_type": "stream",
     "text": [
      "                 specobjid gz2_class\n",
      "85359   587722981741363294        Sb\n",
      "35562   587722981741363323      Sc?l\n",
      "168093  587722981741428877  SBb3m(r)\n",
      "212757  587722981741559888        Er\n",
      "57863   587722981741625481      Sc1t\n",
      "...                    ...       ...\n",
      "102590  588848901537988759        Ei\n",
      "180427  588848901538447575        Ei\n",
      "185027  588848901538578615     SBb2m\n",
      "231083  588848901539430566        Ec\n",
      "81854   588848901539627254     SBc?m\n",
      "\n",
      "[239695 rows x 2 columns]\n"
     ]
    }
   ],
   "source": [
    "labels_df.rename(columns={'dr7objid': \"specobjid\"}, inplace=True)\n",
    "relevant_columns = ['specobjid', 'gz2_class']  # Specify the columns you need\n",
    "\n",
    "smaller_df = labels_df[relevant_columns].copy()  # Create a new DataFrame with only the relevant columns\n",
    "# smaller_df = smaller_df.dropna()\n",
    "smaller_df = smaller_df.sort_values(by = \"specobjid\")\n",
    "print(smaller_df)\n",
    "\n",
    "smaller_df[\"specobjid\"] = smaller_df[\"specobjid\"].astype(int)\n",
    "\n",
    "img_id_df = img_id_df.dropna()\n",
    "img_id_df = img_id_df.sort_values(by = \"specobjid\")\n",
    "img_id_df = img_id_df.head(239695)\n",
    "\n"
   ]
  },
  {
   "cell_type": "code",
   "execution_count": 6,
   "metadata": {},
   "outputs": [
    {
     "name": "stdout",
     "output_type": "stream",
     "text": [
      "                 specobjid gz2_class    sample  asset_id\n",
      "0       587722981741363294        Sb  original         3\n",
      "1       587722981741363323      Sc?l  original         4\n",
      "2       587722981741428877  SBb3m(r)     extra    245612\n",
      "3       587722981741559888        Er  original         5\n",
      "4       587722981741625481      Sc1t  original         6\n",
      "...                    ...       ...       ...       ...\n",
      "194947  588011219683180778      Sc?m  original    201978\n",
      "194948  588011219683770432     Er(o)  original    201979\n",
      "194949  588011219683836110        Er  original    201980\n",
      "194950  588011219683967294        Er  original    201981\n",
      "194951  588011219684229338      Sc?t  original    201982\n",
      "\n",
      "[194952 rows x 4 columns]\n"
     ]
    }
   ],
   "source": [
    "merge_df = merge(smaller_df, img_id_df, on = \"specobjid\", how = \"inner\")\n",
    "print(merge_df)"
   ]
  },
  {
   "cell_type": "code",
   "execution_count": 7,
   "metadata": {},
   "outputs": [
    {
     "name": "stdout",
     "output_type": "stream",
     "text": [
      "(13965, 4)\n",
      "                 specobjid gz2_class    sample  asset_id\n",
      "8       587722981741756545        Sb  original        11\n",
      "101     587722981748113567   Sc?t(r)  original       100\n",
      "102     587722981748179130      Sc+t  original       101\n",
      "103     587722981748375756     SBc?t  original       102\n",
      "104     587722981748375801        Ei  original       103\n",
      "...                    ...       ...       ...       ...\n",
      "113121  587738947199893702        Sc  original    115401\n",
      "113122  587738947200024706       Ser  original    115402\n",
      "113123  587738947200024811        Ei  original    115403\n",
      "113124  587738947200155873        Ei  original    115404\n",
      "113125  587738947200352424        Er  original    115405\n",
      "\n",
      "[13965 rows x 4 columns]\n"
     ]
    }
   ],
   "source": [
    "img_name = os.listdir(\"galaxyZoo/images/\")\n",
    "\n",
    "asset_id = []\n",
    "\n",
    "for name in img_name:\n",
    "    name = name.removesuffix(\".jpg\")\n",
    "    name = int(name)\n",
    "    asset_id.append(name)\n",
    "#14060\n",
    "\n",
    "mask = merge_df[\"asset_id\"].isin(asset_id)\n",
    "final_df = merge_df[mask]\n",
    "print(final_df.shape)\n",
    "final_df = final_df.sort_values(by = \"asset_id\")\n",
    "print(final_df)\n",
    "#final_df.to_csv(\"please.csv\")"
   ]
  },
  {
   "cell_type": "code",
   "execution_count": 8,
   "metadata": {},
   "outputs": [
    {
     "name": "stdout",
     "output_type": "stream",
     "text": [
      "0\n"
     ]
    }
   ],
   "source": [
    "filenames_in_mapping = final_df['asset_id'].tolist()\n",
    "filenames_in_mapping = [str(file) + \".jpg\" for file in filenames_in_mapping]\n",
    "\n",
    "count = 0\n",
    "for filename in os.listdir(\"galaxyZoo/images/\"):\n",
    "    if filename not in filenames_in_mapping:\n",
    "        file_path = os.path.join(\"galaxyZoo/images/\", filename)\n",
    "        os.remove(file_path)\n",
    "        count += 1\n",
    "\n",
    "print(count)\n",
    "        "
   ]
  },
  {
   "cell_type": "markdown",
   "metadata": {},
   "source": [
    "https://github.com/jameslawlor/kaggle_galaxy_zoo/blob/master/galaxy_zoo_keras.ipynb\n"
   ]
  },
  {
   "cell_type": "code",
   "execution_count": 9,
   "metadata": {},
   "outputs": [
    {
     "name": "stdout",
     "output_type": "stream",
     "text": [
     ]
    }
   ],
   "source": [
    "spec_list = []\n",
    "class_df = final_df[\"gz2_class\"]\n",
    "for n in class_df:\n",
    "    spec_list.append(n)\n",
    "spec_list = [s[:2] for s in spec_list]\n",
    "#batch because laptop doesn't have enough memory\n",
    "spec_list = spec_list[:4805]\n",
    "print(spec_list)\n",
    "\n",
    "label_encoder = LabelEncoder()\n",
    "specs = label_encoder.fit_transform(spec_list)\n",
    "\n"
   ]
  },
  {
   "cell_type": "code",
   "execution_count": 10,
   "metadata": {},
   "outputs": [
    {
     "name": "stdout",
     "output_type": "stream",
     "text": [
      "['Sb', 'Sc', 'SB', 'Ei', 'Er', 'Se', 'Ec', 'Sd', 'A', 'Sa']\n"
     ]
    }
   ],
   "source": [
    "n = []\n",
    "for letters in spec_list:\n",
    "    if letters not in n:\n",
    "        n.append(letters)\n",
    "    else:\n",
    "        continue\n",
    "print(n)"
   ]
  },
  {
   "cell_type": "code",
   "execution_count": 11,
   "metadata": {},
   "outputs": [
    {
     "name": "stdout",
     "output_type": "stream",
     "text": [
      "(4805, 424, 424, 3)\n"
     ]
    }
   ],
   "source": [
    "x = []\n",
    "#np.empty((424, 424, 3))\n",
    "n = 0\n",
    "while n < 4805: \n",
    "    for filename in os.listdir(\"galaxyZoo/images/\"):\n",
    "        image = Image.open(f\"galaxyZoo/images/{filename}\")\n",
    "        img_array = np.array(image) \n",
    "        x.append(img_array)\n",
    "        n +=1\n",
    "        if n >= 4805:\n",
    "            break\n",
    "x = np.array(x)\n",
    "print(x.shape)\n",
    "#img_df = DataFrame({\"Image\": x})"
   ]
  },
  {
   "cell_type": "code",
   "execution_count": 12,
   "metadata": {},
   "outputs": [],
   "source": [
    "# y = np.array(final_df[\"gz2_class\"])\n",
    "# print(img_dataset.dtype)\n",
    "# images_train, images_test, labels_train, labels_test = train_test_split(img_dataset, y, test_size=0.2, random_state=42)"
   ]
  },
  {
   "cell_type": "code",
   "execution_count": 13,
   "metadata": {},
   "outputs": [
    {
     "name": "stdout",
     "output_type": "stream",
     "text": [
      "(3844, 424, 424, 3)\n"
     ]
    }
   ],
   "source": [
    "specs = to_categorical(specs)\n",
    "x_train, x_test, y_train, y_test = train_test_split(x, specs, test_size=0.2, random_state=42)\n",
    "print(x_train.shape)\n",
    "# np.array(x_train)\n",
    "# np.array(x_test)\n",
    "# np.array(y_train)\n",
    "# np.array(y_test)\n"
   ]
  },
  {
   "cell_type": "code",
   "execution_count": 14,
   "metadata": {},
   "outputs": [],
   "source": [
    "# model = Sequential([\n",
    "#   Rescaling(1./255),\n",
    "#   Conv2D(32, 3, activation='relu'),\n",
    "#   MaxPooling2D(),\n",
    "#   Conv2D(32, 3, activation='relu'),\n",
    "#   MaxPooling2D(),\n",
    "#   Conv2D(32, 3, activation='relu'),\n",
    "#   MaxPooling2D(),\n",
    "#   Flatten(),\n",
    "#   Dense(128, activation='relu'),\n",
    "#   Dense(1)\n",
    "# ])"
   ]
  },
  {
   "cell_type": "code",
   "execution_count": 15,
   "metadata": {},
   "outputs": [],
   "source": [
    "model = Sequential([\n",
    "    Rescaling(1./255),\n",
    "    Flatten(input_shape=(424, 424, 3)),\n",
    "    Dense(128, activation='relu'),\n",
    "    Dense(64, activation='relu'),\n",
    "    Dense(10, activation='relu')\n",
    "])"
   ]
  },
  {
   "cell_type": "code",
   "execution_count": 16,
   "metadata": {},
   "outputs": [
    {
     "name": "stdout",
     "output_type": "stream",
     "text": [
      "Epoch 1/15\n"
     ]
    },
    {
     "name": "stderr",
     "output_type": "stream",
     "text": [
      "2024-03-17 22:43:59.017319: W external/local_tsl/tsl/framework/cpu_allocator_impl.cc:83] Allocation of 2073176832 exceeds 10% of free system memory.\n"
     ]
    },
    {
     "name": "stdout",
     "output_type": "stream",
     "text": [
      "39/39 [==============================] - 18s 441ms/step - loss: 7.4913 - accuracy: 0.1904 - val_loss: 7.0452 - val_accuracy: 0.1727\n",
      "Epoch 2/15\n",
      "39/39 [==============================] - 17s 435ms/step - loss: 7.3413 - accuracy: 0.1842 - val_loss: 7.0463 - val_accuracy: 0.1988\n",
      "Epoch 3/15\n",
      "39/39 [==============================] - 17s 438ms/step - loss: 7.3402 - accuracy: 0.1990 - val_loss: 7.0447 - val_accuracy: 0.1967\n",
      "Epoch 4/15\n",
      "39/39 [==============================] - 17s 433ms/step - loss: 7.3367 - accuracy: 0.1977 - val_loss: 7.0431 - val_accuracy: 0.1863\n",
      "Epoch 5/15\n",
      "39/39 [==============================] - 17s 433ms/step - loss: 7.3335 - accuracy: 0.2071 - val_loss: 7.0476 - val_accuracy: 0.1956\n",
      "Epoch 6/15\n",
      "39/39 [==============================] - 17s 435ms/step - loss: 7.3264 - accuracy: 0.2357 - val_loss: 7.0628 - val_accuracy: 0.1842\n",
      "Epoch 7/15\n",
      "39/39 [==============================] - 17s 438ms/step - loss: 7.4374 - accuracy: 0.2326 - val_loss: 7.5173 - val_accuracy: 0.1904\n",
      "Epoch 8/15\n",
      "39/39 [==============================] - 17s 434ms/step - loss: 7.7721 - accuracy: 0.2380 - val_loss: 7.5488 - val_accuracy: 0.1988\n",
      "Epoch 9/15\n",
      "39/39 [==============================] - 17s 434ms/step - loss: 7.7608 - accuracy: 0.2370 - val_loss: 7.5162 - val_accuracy: 0.1935\n",
      "Epoch 10/15\n",
      "39/39 [==============================] - 17s 434ms/step - loss: 7.5214 - accuracy: 0.2568 - val_loss: 7.2477 - val_accuracy: 0.0364\n",
      "Epoch 11/15\n",
      "39/39 [==============================] - 17s 433ms/step - loss: 7.3321 - accuracy: 0.2302 - val_loss: 7.0599 - val_accuracy: 0.1821\n",
      "Epoch 12/15\n",
      "39/39 [==============================] - 17s 432ms/step - loss: 7.2796 - accuracy: 0.3091 - val_loss: 7.0746 - val_accuracy: 0.1904\n",
      "Epoch 13/15\n",
      "39/39 [==============================] - 17s 433ms/step - loss: 7.2652 - accuracy: 0.2895 - val_loss: 7.4469 - val_accuracy: 0.0375\n",
      "Epoch 14/15\n",
      "39/39 [==============================] - 17s 431ms/step - loss: 7.4533 - accuracy: 0.0931 - val_loss: 7.0909 - val_accuracy: 0.1644\n",
      "Epoch 15/15\n",
      "39/39 [==============================] - 17s 433ms/step - loss: 7.3317 - accuracy: 0.2279 - val_loss: 7.0461 - val_accuracy: 0.1977\n"
     ]
    },
    {
     "data": {
      "text/plain": [
       "<keras.src.callbacks.History at 0x7f68384a30a0>"
      ]
     },
     "execution_count": 16,
     "metadata": {},
     "output_type": "execute_result"
    }
   ],
   "source": [
    "# t_dataset = tf.data.Dataset.from_tensor_slices((X_train, y_train))\n",
    "\n",
    "model.compile(\n",
    "    loss='categorical_crossentropy',\n",
    "    optimizer='Adam',\n",
    "    metrics=['accuracy']\n",
    ")\n",
    "model.fit(\n",
    "    x_train,\n",
    "    y_train,\n",
    "    epochs = 15, \n",
    "    validation_data = (x_test, y_test),\n",
    "    batch_size= 100,\n",
    ")\n"
   ]
  },
  {
   "cell_type": "code",
   "execution_count": 19,
   "metadata": {},
   "outputs": [
    {
     "name": "stdout",
     "output_type": "stream",
     "text": [
      "1/1 [==============================] - 0s 54ms/step\n",
      "[[  0.       96.32027   0.      385.3395  396.27444   0.        0.\n",
      "  441.47107   0.        0.     ]]\n"
     ]
    }
   ],
   "source": [
    "img = Image.open(\"galaxyZoo/images/115405.jpg\")\n",
    "img = np.array(img)\n",
    "img = np.reshape(img, (1, 424, 424, 3))\n",
    "predict = model.predict(img)\n",
    "print(predict)"
   ]
  }
 ],
 "metadata": {
  "kernelspec": {
   "display_name": "Python 3",
   "language": "python",
   "name": "python3"
  },
  "language_info": {
   "codemirror_mode": {
    "name": "ipython",
    "version": 3
   },
   "file_extension": ".py",
   "mimetype": "text/x-python",
   "name": "python",
   "nbconvert_exporter": "python",
   "pygments_lexer": "ipython3",
   "version": "3.10.13"
  }
 },
 "nbformat": 4,
 "nbformat_minor": 2
}
