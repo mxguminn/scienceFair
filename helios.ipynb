{
  "nbformat": 4,
  "nbformat_minor": 0,
  "metadata": {
    "colab": {
      "provenance": [],
      "authorship_tag": "ABX9TyPwnT31unDmhLoE4gwTiB8w"
    },
    "kernelspec": {
      "name": "python3",
      "display_name": "Python 3"
    },
    "language_info": {
      "name": "python"
    }
  },
  "cells": [
    {
      "cell_type": "code",
      "source": [
        "#Helios\n",
        "#Tochi Ossai\n",
        "#March 9, 2023\n",
        "#An ANN that detects exoplanets using the transit method"
      ],
      "metadata": {
        "id": "QMHjlbFPMSoC"
      },
      "execution_count": null,
      "outputs": []
    },
    {
      "cell_type": "code",
      "execution_count": null,
      "metadata": {
        "id": "big_X53Npv_b"
      },
      "outputs": [],
      "source": [
        "import pandas as pd\n",
        "import numpy as np\n",
        "import matplotlib.pyplot as plt"
      ]
    },
    {
      "cell_type": "code",
      "source": [
        "dataset =  pd.read_csv(\"exoTrain.csv\")\n",
        "x = dataset.drop(columns=[\"LABEL\"])"
      ],
      "metadata": {
        "id": "uCmztBC0qG1X"
      },
      "execution_count": null,
      "outputs": []
    },
    {
      "cell_type": "code",
      "source": [
        "dataset.isnull().sum()"
      ],
      "metadata": {
        "id": "zF88D_-2sb3l",
        "outputId": "46b145e9-23c0-4861-fcae-097be2d4b9cc",
        "colab": {
          "base_uri": "https://localhost:8080/"
        }
      },
      "execution_count": null,
      "outputs": [
        {
          "output_type": "execute_result",
          "data": {
            "text/plain": [
              "LABEL        0\n",
              "FLUX.1       0\n",
              "FLUX.2       0\n",
              "FLUX.3       0\n",
              "FLUX.4       0\n",
              "            ..\n",
              "FLUX.3193    0\n",
              "FLUX.3194    0\n",
              "FLUX.3195    0\n",
              "FLUX.3196    0\n",
              "FLUX.3197    0\n",
              "Length: 3198, dtype: int64"
            ]
          },
          "metadata": {},
          "execution_count": 4
        }
      ]
    },
    {
      "cell_type": "code",
      "source": [
        "y = dataset[\"LABEL\"]"
      ],
      "metadata": {
        "id": "b_bJqmYsq4Ss"
      },
      "execution_count": null,
      "outputs": []
    },
    {
      "cell_type": "code",
      "source": [
        "from sklearn.model_selection import train_test_split\n",
        "x_train, x_test, y_train, y_test =  train_test_split(x,y, test_size = 0.2)"
      ],
      "metadata": {
        "id": "bO4-vn69sCdZ"
      },
      "execution_count": null,
      "outputs": []
    },
    {
      "cell_type": "code",
      "source": [
        "import tensorflow as tf\n",
        "model = tf.keras.models.Sequential()"
      ],
      "metadata": {
        "id": "lT_Iwso7wa_i"
      },
      "execution_count": null,
      "outputs": []
    },
    {
      "cell_type": "code",
      "source": [
        "model.add(tf.keras.layers.Dense(64, input_shape=(x_train.shape[1],), activation='sigmoid'))\n",
        "model.add(tf.keras.layers.Dense(64, activation='sigmoid'))\n",
        "model.add(tf.keras.layers.Dense(1, activation='sigmoid'))"
      ],
      "metadata": {
        "id": "GEE34_cYxl-4"
      },
      "execution_count": null,
      "outputs": []
    },
    {
      "cell_type": "code",
      "source": [
        "model.compile(optimizer='Adam', loss = 'binary_crossentropy', metrics=['accuracy'])\n",
        "tf.keras.optimizers.Adam(clipvalue=1.0)"
      ],
      "metadata": {
        "id": "BdvMWDvQ5VnF",
        "outputId": "0b7b1377-3242-4c69-e8e4-028fe29515c9",
        "colab": {
          "base_uri": "https://localhost:8080/"
        }
      },
      "execution_count": null,
      "outputs": [
        {
          "output_type": "execute_result",
          "data": {
            "text/plain": [
              "<keras.optimizers.optimizer_experimental.adam.Adam at 0x7f68038f2550>"
            ]
          },
          "metadata": {},
          "execution_count": 9
        }
      ]
    },
    {
      "cell_type": "code",
      "source": [
        "hist = model.fit(x_train, y_train, epochs=10, validation_data=(x_test, y_test))"
      ],
      "metadata": {
        "id": "ksg1NmVB-Ta-",
        "outputId": "7ce8bba2-578d-4151-8e3b-949c680e9d51",
        "colab": {
          "base_uri": "https://localhost:8080/"
        }
      },
      "execution_count": null,
      "outputs": [
        {
          "output_type": "stream",
          "name": "stdout",
          "text": [
            "Epoch 1/10\n",
            "128/128 [==============================] - 4s 17ms/step - loss: 0.0336 - accuracy: 0.9926 - val_loss: -0.0259 - val_accuracy: 0.9931\n",
            "Epoch 2/10\n",
            "128/128 [==============================] - 1s 12ms/step - loss: -0.0374 - accuracy: 0.9926 - val_loss: -0.0423 - val_accuracy: 0.9931\n",
            "Epoch 3/10\n",
            "128/128 [==============================] - 1s 11ms/step - loss: -0.0508 - accuracy: 0.9926 - val_loss: -0.0529 - val_accuracy: 0.9931\n",
            "Epoch 4/10\n",
            "128/128 [==============================] - 2s 12ms/step - loss: -0.0622 - accuracy: 0.9926 - val_loss: -0.0647 - val_accuracy: 0.9931\n",
            "Epoch 5/10\n",
            "128/128 [==============================] - 2s 16ms/step - loss: -0.0744 - accuracy: 0.9926 - val_loss: -0.0763 - val_accuracy: 0.9931\n",
            "Epoch 6/10\n",
            "128/128 [==============================] - 1s 10ms/step - loss: -0.0882 - accuracy: 0.9926 - val_loss: -0.0897 - val_accuracy: 0.9931\n",
            "Epoch 7/10\n",
            "128/128 [==============================] - 1s 5ms/step - loss: -0.1029 - accuracy: 0.9926 - val_loss: -0.1047 - val_accuracy: 0.9931\n",
            "Epoch 8/10\n",
            "128/128 [==============================] - 1s 6ms/step - loss: -0.1192 - accuracy: 0.9926 - val_loss: -0.1202 - val_accuracy: 0.9931\n",
            "Epoch 9/10\n",
            "128/128 [==============================] - 1s 6ms/step - loss: -0.1376 - accuracy: 0.9926 - val_loss: -0.1370 - val_accuracy: 0.9931\n",
            "Epoch 10/10\n",
            "128/128 [==============================] - 1s 5ms/step - loss: -0.1567 - accuracy: 0.9926 - val_loss: -0.1551 - val_accuracy: 0.9931\n"
          ]
        }
      ]
    },
    {
      "cell_type": "code",
      "source": [
        "plt.plot(hist.history['loss'], color='b')\n",
        "plt.plot(hist.history['val_loss'], color='r')\n",
        "plt.show()\n",
        "plt.plot(hist.history['accuracy'], color='b')\n",
        "plt.plot(hist.history['val_accuracy'], color='r')\n",
        "plt.show()"
      ],
      "metadata": {
        "id": "oVsGey6fQ0Gr",
        "outputId": "2a8f42cb-c7f4-487f-cdfd-4da6b64cb28b",
        "colab": {
          "base_uri": "https://localhost:8080/",
          "height": 513
        }
      },
      "execution_count": null,
      "outputs": [
        {
          "output_type": "display_data",
          "data": {
            "text/plain": [
              "<Figure size 432x288 with 1 Axes>"
            ],
            "image/png": "[encoded data removed]"
          },
          "metadata": {
            "needs_background": "light"
          }
        },
        {
          "output_type": "display_data",
          "data": {
            "text/plain": [
              "<Figure size 432x288 with 1 Axes>"
            ],
            "image/png": "[encoded data removed]"
          },
          "metadata": {
            "needs_background": "light"
          }
        }
      ]
    },
    {
      "cell_type": "code",
      "source": [
        "train = pd.read_csv(\"exoTest.csv\")\n",
        "x_test = train.drop(columns=['LABEL'])\n",
        "y_test = train['LABEL']\n",
        "x_train = x\n",
        "y_train = y"
      ],
      "metadata": {
        "id": "hyMs2huS8JtA"
      },
      "execution_count": null,
      "outputs": []
    },
    {
      "cell_type": "code",
      "source": [
        "hist = model.fit(x_train, y_train, epochs=10, validation_data=(x_test, y_test))"
      ],
      "metadata": {
        "id": "QBEpXHqa8joq",
        "outputId": "a4094047-849c-4d6b-8c72-ccf2d0a8a177",
        "colab": {
          "base_uri": "https://localhost:8080/"
        }
      },
      "execution_count": null,
      "outputs": [
        {
          "output_type": "stream",
          "name": "stdout",
          "text": [
            "Epoch 1/10\n",
            "159/159 [==============================] - 1s 6ms/step - loss: -0.1759 - accuracy: 0.9927 - val_loss: -0.2270 - val_accuracy: 0.9912\n",
            "Epoch 2/10\n",
            "159/159 [==============================] - 1s 5ms/step - loss: -0.2002 - accuracy: 0.9927 - val_loss: -0.2555 - val_accuracy: 0.9912\n",
            "Epoch 3/10\n",
            "159/159 [==============================] - 1s 6ms/step - loss: -0.2251 - accuracy: 0.9927 - val_loss: -0.2860 - val_accuracy: 0.9912\n",
            "Epoch 4/10\n",
            "159/159 [==============================] - 1s 5ms/step - loss: -0.2502 - accuracy: 0.9927 - val_loss: -0.3166 - val_accuracy: 0.9912\n",
            "Epoch 5/10\n",
            "159/159 [==============================] - 1s 5ms/step - loss: -0.2768 - accuracy: 0.9927 - val_loss: -0.3516 - val_accuracy: 0.9912\n",
            "Epoch 6/10\n",
            "159/159 [==============================] - 1s 6ms/step - loss: -0.3058 - accuracy: 0.9927 - val_loss: -0.3845 - val_accuracy: 0.9912\n",
            "Epoch 7/10\n",
            "159/159 [==============================] - 1s 6ms/step - loss: -0.3347 - accuracy: 0.9927 - val_loss: -0.4215 - val_accuracy: 0.9912\n",
            "Epoch 8/10\n",
            "159/159 [==============================] - 1s 5ms/step - loss: -0.3643 - accuracy: 0.9927 - val_loss: -0.4552 - val_accuracy: 0.9912\n",
            "Epoch 9/10\n",
            "159/159 [==============================] - 1s 6ms/step - loss: -0.3934 - accuracy: 0.9927 - val_loss: -0.4909 - val_accuracy: 0.9912\n",
            "Epoch 10/10\n",
            "159/159 [==============================] - 1s 6ms/step - loss: -0.4222 - accuracy: 0.9927 - val_loss: -0.5268 - val_accuracy: 0.9912\n"
          ]
        }
      ]
    },
    {
      "cell_type": "code",
      "source": [
        "plt.plot(hist.history['loss'], color='b')\n",
        "plt.plot(hist.history['val_loss'], color='r')\n",
        "plt.show()\n",
        "plt.plot(hist.history['accuracy'], color='b')\n",
        "plt.plot(hist.history['val_accuracy'], color='r')\n",
        "plt.show()"
      ],
      "metadata": {
        "id": "_yeR_p9y8koA",
        "outputId": "dcd8e92c-c065-48f5-e7c4-f8c270090682",
        "colab": {
          "base_uri": "https://localhost:8080/",
          "height": 517
        }
      },
      "execution_count": null,
      "outputs": [
        {
          "output_type": "display_data",
          "data": {
            "text/plain": [
              "<Figure size 432x288 with 1 Axes>"
            ],
            "image/png": "[encoded data removed]"
          },
          "metadata": {
            "needs_background": "light"
          }
        },
        {
          "output_type": "display_data",
          "data": {
            "text/plain": [
              "<Figure size 432x288 with 1 Axes>"
            ],
            "image/png": "[encoded data removed]"
          },
          "metadata": {
            "needs_background": "light"
          }
        }
      ]
    }
  ]
}