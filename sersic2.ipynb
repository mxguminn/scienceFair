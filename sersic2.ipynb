{
 "cells": [
  {
   "cell_type": "code",
   "execution_count": 1,
   "metadata": {},
   "outputs": [],
   "source": [
    "#dumb installs\n",
    "%load_ext autoreload\n",
    "%autoreload 2\n",
    "\n",
    "import os\n",
    "import astrophot as ap\n",
    "import numpy as np\n",
    "from astropy.io import fits\n",
    "from astropy.wcs import WCS\n",
    "import matplotlib.pyplot as plt\n",
    "from random import randint\n",
    "from pandas import read_csv\n",
    "from PIL import Image\n",
    "%matplotlib inline"
   ]
  },
  {
   "cell_type": "code",
   "execution_count": null,
   "metadata": {},
   "outputs": [],
   "source": [
    "img_name = os.listdir(\"galaxyZoo/images/\")\n",
    "for img in img_name:\n",
    "    image = Image.open(f\"galaxyZoo/images/{img}\")\n",
    "    image = image.convert('L')\n",
    "    image = np.array(image)\n",
    "    hdu = fits.PrimaryHDU(image)\n",
    "    hdu.writeto(f\"galaxyZoo/fits_images/f_{img.removesuffix('.jpg')}.fits\", overwrite=True)"
   ]
  },
  {
   "cell_type": "code",
   "execution_count": null,
   "metadata": {},
   "outputs": [],
   "source": [
    "final_df = read_csv(os.path.join(\"galaxyZoo/please.csv\")) #csv file containing the classification associated with each SDSS object\n",
    "spec_list = []\n",
    "class_df = final_df[\"gz2_class\"]\n",
    "for n in class_df:\n",
    "    spec_list.append(n)\n",
    "spec_list = [s[:2] for s in spec_list] #cuts all the weird stuff from the classification\n",
    "#batch because laptop doesn't have enough memory\n",
    "spec_list = spec_list[:4855]"
   ]
  },
  {
   "cell_type": "code",
   "execution_count": null,
   "metadata": {},
   "outputs": [],
   "source": [
    "img_name = os.listdir(\"galaxyZoo/fits_images/\")\n",
    "count = 0\n",
    "params_all = []\n",
    "spiral = []\n",
    "elliptical = []\n",
    "\n",
    "for img in img_name:\n",
    "    #making a target (basically data for the model to fit)\n",
    "    file = fits.open(f\"galaxyZoo/fits_images/{img}\")\n",
    "    target_data = np.array(file[0].data, dtype = np.float64)\n",
    "\n",
    "    # target_data = target_data.T\n",
    "\n",
    "    #target object\n",
    "    target = ap.image.Target_Image(\n",
    "        data = target_data,\n",
    "        pixelscale = 0.396, #SDSS pixel scale\n",
    "        zeropoint = 22.3, #r-band in SDSS\n",
    "        variance = np.ones(target_data.shape)/1e3,\n",
    "    )\n",
    "    model1 = ap.models.AstroPhot_Model(\n",
    "    name = f\"model{count}\", # every model must have a unique name\n",
    "    model_type = \"sersic galaxy model\", # this specifies the kind of model\n",
    "    #we don't need to list params because we have a target !\n",
    "    target = target,\n",
    "    )\n",
    "    model1.initialize()\n",
    "    result = ap.fit.lm.LM(model1, verbose = 0).fit() #verbose is 0 by default, the higher, the more detailed output\n",
    "    dict = model1.get_state()\n",
    "    n = dict[\"parameters\"][\"nodes\"][3][\"value\"]\n",
    "    \n",
    "    classification = spec_list[count]\n",
    "    if classification[0] == \"S\":\n",
    "        spiral.append(n)\n",
    "    elif classification[0] == \"E\":\n",
    "        elliptical.append(n)\n",
    "    params_all.append(n)\n",
    "\n",
    "    print(count)\n",
    "    count += 1"
   ]
  },
  {
   "cell_type": "code",
   "execution_count": 7,
   "metadata": {},
   "outputs": [
    {
     "name": "stdout",
     "output_type": "stream",
     "text": [
      "The average sersic index of spiral galaxies is 1.5358194919149737\n",
      "The average sersic index of elliptical galaxies is 1.5810735722722504\n",
      "The average sersic index is 1.555014241248085\n"
     ]
    }
   ],
   "source": [
    "print(f\"The average sersic index of spiral galaxies is {sum(spiral) / len(spiral)}\")\n",
    "print(f\"The average sersic index of elliptical galaxies is {sum(elliptical) / len(elliptical)}\")\n",
    "print(f\"The average sersic index is {sum(params_all) / len(params_all)}\")"
   ]
  },
  {
   "cell_type": "code",
   "execution_count": 9,
   "metadata": {},
   "outputs": [
    {
     "name": "stdout",
     "output_type": "stream",
     "text": [
      "The range of spiral was 7.639999996958935\n",
      "min: 7.999999997152622, max: 0.36000000019368594\n",
      "The range of elliptical was 7.6399933244599385\n",
      "min: 7.999993324643386, max: 0.36000000018344724\n",
      "The range of all was 7.639999996969174\n",
      "min: 7.999999997152622, max: 0.36000000018344724\n"
     ]
    }
   ],
   "source": [
    "print(f\"The range of spiral was {max(spiral) - min(spiral)}\")\n",
    "print(f\"min: {max(spiral)}, max: {min(spiral)}\")\n",
    "\n",
    "print(f\"The range of elliptical was {max(elliptical) - min(elliptical)}\")\n",
    "print(f\"min: {max(elliptical)}, max: {min(elliptical)}\")\n",
    "\n",
    "print(f\"The range of all was {max(params_all) - min(params_all)}\")\n",
    "print(f\"min: {max(params_all)}, max: {min(params_all)}\")"
   ]
  }
 ],
 "metadata": {
  "kernelspec": {
   "display_name": "Python 3",
   "language": "python",
   "name": "python3"
  },
  "language_info": {
   "codemirror_mode": {
    "name": "ipython",
    "version": 3
   },
   "file_extension": ".py",
   "mimetype": "text/x-python",
   "name": "python",
   "nbconvert_exporter": "python",
   "pygments_lexer": "ipython3",
   "version": "3.10.13"
  }
 },
 "nbformat": 4,
 "nbformat_minor": 2
}
